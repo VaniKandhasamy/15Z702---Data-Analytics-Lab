{
 "cells": [
  {
   "cell_type": "code",
   "execution_count": 23,
   "metadata": {},
   "outputs": [
    {
     "name": "stdout",
     "output_type": "stream",
     "text": [
      "Accuracy:0.34886025768087214\n"
     ]
    }
   ],
   "source": [
    "import numpy as np\n",
    "import pandas as pd\n",
    "df = pd.read_csv(\"movie_metadata.csv\")\n",
    "df.head()\n",
    "df = df[['num_critic_for_reviews','director_facebook_likes','actor_1_facebook_likes','actor_2_facebook_likes','actor_3_facebook_likes','movie_facebook_likes','imdb_score']]\n",
    "df.head()\n",
    "for i in df.columns:\n",
    "    if df[i].isnull().sum()>0:\n",
    "        df[i] = df[i].fillna(df[i].mean())\n",
    "df.isnull().sum()\n",
    "y = df[['imdb_score']]\n",
    "y = y.round()\n",
    "from sklearn.model_selection import train_test_split  \n",
    "X_train, X_test, y_train, y_test = train_test_split(df, y, test_size = 0.20)\n",
    "from sklearn.neural_network import MLPClassifier  \n",
    "mlp = MLPClassifier(hidden_layer_sizes=(6,4,3), max_iter=1000,random_state=1,)  \n",
    "mlp.fit(X_train, y_train.values.ravel())  \n",
    "predictions = mlp.predict(X_test) \n",
    "from sklearn.metrics import accuracy_score\n",
    "print(\"Accuracy:\"+str(accuracy_score(y_test,predictions)))"
   ]
  },
  {
   "cell_type": "code",
   "execution_count": null,
   "metadata": {},
   "outputs": [],
   "source": []
  },
  {
   "cell_type": "code",
   "execution_count": null,
   "metadata": {},
   "outputs": [],
   "source": []
  }
 ],
 "metadata": {
  "kernelspec": {
   "display_name": "Python 3",
   "language": "python",
   "name": "python3"
  },
  "language_info": {
   "codemirror_mode": {
    "name": "ipython",
    "version": 3
   },
   "file_extension": ".py",
   "mimetype": "text/x-python",
   "name": "python",
   "nbconvert_exporter": "python",
   "pygments_lexer": "ipython3",
   "version": "3.7.0"
  }
 },
 "nbformat": 4,
 "nbformat_minor": 2
}
