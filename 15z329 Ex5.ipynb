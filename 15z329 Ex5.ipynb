{
 "cells": [
  {
   "cell_type": "code",
   "execution_count": 2,
   "metadata": {},
   "outputs": [
    {
     "name": "stdout",
     "output_type": "stream",
     "text": [
      "Number of values?3\n",
      "x y\n",
      "X =1\n",
      "Y =3\n",
      "X =4\n",
      "Y =2\n",
      "X =1\n",
      "Y =2.1\n"
     ]
    }
   ],
   "source": [
    "nv = int(input(\"Number of values?\"))\n",
    "point = []\n",
    "print(\"x y\")\n",
    "for i in range(nv):\n",
    "    point.append([])\n",
    "    point[i].append(float(input(\"X =\")))\n",
    "    point[i].append(float(input(\"Y =\")))"
   ]
  },
  {
   "cell_type": "code",
   "execution_count": 3,
   "metadata": {},
   "outputs": [],
   "source": [
    "import matplotlib.pyplot as plt"
   ]
  },
  {
   "cell_type": "code",
   "execution_count": 4,
   "metadata": {},
   "outputs": [
    {
     "data": {
      "text/plain": [
       "[<matplotlib.lines.Line2D at 0x1a47f760b70>]"
      ]
     },
     "execution_count": 4,
     "metadata": {},
     "output_type": "execute_result"
    },
    {
     "data": {
      "image/png": "[encoded data removed]",
      "text/plain": [
       "<matplotlib.figure.Figure at 0x1a47c1cc860>"
      ]
     },
     "metadata": {},
     "output_type": "display_data"
    }
   ],
   "source": [
    "plt.plot([group[0] for group in point], [group[1] for group in point], 'ro')"
   ]
  },
  {
   "cell_type": "code",
   "execution_count": 5,
   "metadata": {},
   "outputs": [
    {
     "name": "stdout",
     "output_type": "stream",
     "text": [
      "2.0\n",
      "Y = 2.3666666666666667\n"
     ]
    }
   ],
   "source": [
    "xm = sum([group[0] for group in point])/nv\n",
    "ym = sum([group[1] for group in point])/nv\n",
    "print(str(xm))\n",
    "print(\"Y = \"+str(ym))"
   ]
  },
  {
   "cell_type": "code",
   "execution_count": 6,
   "metadata": {},
   "outputs": [
    {
     "name": "stdout",
     "output_type": "stream",
     "text": [
      "XY 13.1\n"
     ]
    }
   ],
   "source": [
    "xy = 0\n",
    "for i in range(nv):\n",
    "    xy = xy + point[i][0]*point[i][1]\n",
    "print('XY',xy)"
   ]
  },
  {
   "cell_type": "code",
   "execution_count": 8,
   "metadata": {},
   "outputs": [
    {
     "name": "stdout",
     "output_type": "stream",
     "text": [
      "y = -0.183x +2.733\n"
     ]
    }
   ],
   "source": [
    "b = (xy - nv*xm*ym)/((sum([group[0]**2 for group in point])) - nv*(xm**2))\n",
    "a = ym - b*xm\n",
    "print(\"y = \"+str(round(b,3))+\"x +\"+str(round(a,3)))"
   ]
  },
  {
   "cell_type": "code",
   "execution_count": 9,
   "metadata": {},
   "outputs": [
    {
     "data": {
      "text/plain": [
       "[<matplotlib.lines.Line2D at 0x1a47f76c2b0>]"
      ]
     },
     "execution_count": 9,
     "metadata": {},
     "output_type": "execute_result"
    },
    {
     "data": {
      "image/png": "[encoded data removed]",
      "text/plain": [
       "<matplotlib.figure.Figure at 0x1a47f76c668>"
      ]
     },
     "metadata": {},
     "output_type": "display_data"
    }
   ],
   "source": [
    "import numpy as np\n",
    "x = np.array([group[0] for group in point])\n",
    "y = np.array([group[1] for group in point])\n",
    "plt.plot(x, y, 'ro')\n",
    "plt.plot(x,a*x+b )"
   ]
  },
  {
   "cell_type": "code",
   "execution_count": null,
   "metadata": {},
   "outputs": [],
   "source": []
  }
 ],
 "metadata": {
  "kernelspec": {
   "display_name": "Python 3",
   "language": "python",
   "name": "python3"
  },
  "language_info": {
   "codemirror_mode": {
    "name": "ipython",
    "version": 3
   },
   "file_extension": ".py",
   "mimetype": "text/x-python",
   "name": "python",
   "nbconvert_exporter": "python",
   "pygments_lexer": "ipython3",
   "version": "3.6.4"
  }
 },
 "nbformat": 4,
 "nbformat_minor": 2
}
