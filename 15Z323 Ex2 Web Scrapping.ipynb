{
 "cells": [
  {
   "cell_type": "code",
   "execution_count": 10,
   "metadata": {},
   "outputs": [
    {
     "name": "stdout",
     "output_type": "stream",
     "text": [
      "DR ARCHANA KRISHNAN\n",
      "DR ARUL RAJAN K\n",
      "DR BALASUDARSUN N L\n",
      "DR DEEPA R\n",
      "DR JAGAJEEVAN R\n",
      "DR JOSHUA SELVAKUMAR J\n",
      "DR KAVITHA D\n",
      "DR KRISHNAVENI R\n",
      "DR KRISHNAVENI MUTHIAH R\n",
      "DR MANJU P GEORGE\n",
      "DR MANSURALI A\n",
      "DR NANDAGOPAL R\n",
      "DR RAMAN H\n",
      "DR RAMKUMAR N\n",
      "DR SATHISH M\n",
      "DR SATHYANARAYANAN R S\n",
      "DR SEKKIZHAR J\n",
      "DR SRIGAYATHRI DEVI K\n",
      "DR SRIVIDYA V\n",
      "DR SUJATHA R\n",
      "DR SUDHARANI RAVINDRAN D\n",
      "DR SWAMYNATHAN R\n",
      "DR THILAGAM V\n",
      "DR UMA MAHESWARI B\n",
      "DR UMESH CHANDRASEKHAR\n",
      "DR VIJAYA T G\n",
      "DR VIVEK N\n",
      "The no of phd holders in psg im : 27\n"
     ]
    }
   ],
   "source": [
    "from bs4 import BeautifulSoup\n",
    "import requests\n",
    "page = requests.get('http://psgim.ac.in/2017/01/full-time-faculty/')\n",
    "if page.status_code==200:\n",
    "    count=0\n",
    "    soup = BeautifulSoup(page.content, 'html.parser')\n",
    "    for i in soup.findAll(\"div\",{\"class\":\"td-block-title-wrap\"}):\n",
    "        phd=i.text\n",
    "        if \"Dr\" in phd or \"DR\" in phd:\n",
    "                print(phd.strip().upper())\n",
    "                count=count+1\n",
    "    print(\"The no of phd holders in psg im :\",count)\n",
    "else:\n",
    "    print(\"Error\")\n",
    "    \n"
   ]
  },
  {
   "cell_type": "code",
   "execution_count": null,
   "metadata": {},
   "outputs": [],
   "source": []
  }
 ],
 "metadata": {
  "kernelspec": {
   "display_name": "Python 3",
   "language": "python",
   "name": "python3"
  },
  "language_info": {
   "codemirror_mode": {
    "name": "ipython",
    "version": 3
   },
   "file_extension": ".py",
   "mimetype": "text/x-python",
   "name": "python",
   "nbconvert_exporter": "python",
   "pygments_lexer": "ipython3",
   "version": "3.7.0"
  }
 },
 "nbformat": 4,
 "nbformat_minor": 2
}
