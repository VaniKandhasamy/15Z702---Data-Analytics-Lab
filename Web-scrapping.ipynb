{
 "cells": [
  {
   "cell_type": "code",
   "execution_count": 13,
   "metadata": {},
   "outputs": [
    {
     "name": "stdout",
     "output_type": "stream",
     "text": [
      "Dr Archana Krishnan\n",
      "Dr KRISHNAVENI R\n",
      "Dr MANJU P GEORGE\n",
      "Dr RAMKUMAR N\n",
      " Dr Srigayathri Devi K\n",
      "Dr SRIVIDYA V\n",
      "Dr VIJAYA T G\n"
     ]
    }
   ],
   "source": [
    "import requests \n",
    "from bs4 import BeautifulSoup\n",
    "#url to scrape for data\n",
    "URL=\"http://psgim.ac.in/2017/01/full-time-faculty/\"\n",
    "#if connection is successful\n",
    "if(requests.get(URL).status_code==200):\n",
    "    r=requests.get(URL)\n",
    "    #extract html and data inside the div tag\n",
    "    soup=BeautifulSoup(r.content,'html.parser') \n",
    "    staff=soup.findAll(\"div\",{\"class\":\"vc_column-inner\"}) \n",
    "    \n",
    "    for s in range(len(staff)): \n",
    "      #staff names are enclosed in h4 tags\n",
    "      if(staff[s].find('h4')):\n",
    "            #print staff\n",
    "            if \"Dr\" in staff[s].find('h4').text: \n",
    "                print(staff[s].find('h4').text)\n",
    "    \n",
    "    \n"
   ]
  },
  {
   "cell_type": "code",
   "execution_count": null,
   "metadata": {},
   "outputs": [],
   "source": []
  },
  {
   "cell_type": "code",
   "execution_count": null,
   "metadata": {},
   "outputs": [],
   "source": []
  }
 ],
 "metadata": {
  "kernelspec": {
   "display_name": "Python 3",
   "language": "python",
   "name": "python3"
  },
  "language_info": {
   "codemirror_mode": {
    "name": "ipython",
    "version": 3
   },
   "file_extension": ".py",
   "mimetype": "text/x-python",
   "name": "python",
   "nbconvert_exporter": "python",
   "pygments_lexer": "ipython3",
   "version": "3.7.0"
  }
 },
 "nbformat": 4,
 "nbformat_minor": 2
}
