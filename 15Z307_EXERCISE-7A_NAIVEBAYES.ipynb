{
 "cells": [
  {
   "cell_type": "code",
   "execution_count": 1,
   "metadata": {},
   "outputs": [
    {
     "name": "stdout",
     "output_type": "stream",
     "text": [
      "0.9777777777777777\n",
      "0.9790849673202615\n"
     ]
    }
   ],
   "source": [
    "from sklearn.datasets import load_iris\n",
    "from sklearn.naive_bayes import GaussianNB\n",
    "from sklearn import datasets\n",
    "import pandas as pd\n",
    "from sklearn.model_selection import train_test_split\n",
    "from sklearn.metrics import accuracy_score\n",
    "from sklearn.metrics import precision_score\n",
    "from sklearn.metrics import classification_report, confusion_matrix \n",
    "dataset=pd.read_csv('/Users/anirudh/Desktop/Iris.csv')\n",
    "dataset.Species.replace(['Iris-setosa', 'Iris-versicolor', 'Iris-virginica'], [1, 2, 3], inplace=True)\n",
    "y = dataset.Species.values\n",
    "x = dataset.drop(['Species'],axis=1).values\n",
    "x_train, x_test, y_train, y_test = train_test_split(x,y, test_size= 0.3, random_state=27)\n",
    "nb = GaussianNB() \n",
    "bm = nb.fit(x_train, y_train)\n",
    "ypredict = bm.predict(x_test)\n",
    "print(accuracy_score(y_test, ypredict))\n",
    "print(precision_score(y_test, ypredict, average='weighted'))"
   ]
  },
  {
   "cell_type": "code",
   "execution_count": 2,
   "metadata": {},
   "outputs": [
    {
     "name": "stdout",
     "output_type": "stream",
     "text": [
      "[[12  0  0]\n",
      " [ 0 16  0]\n",
      " [ 0  1 16]]\n"
     ]
    }
   ],
   "source": [
    "confusionmatrix = confusion_matrix(y_test,ypredict)\n",
    "print(confusionmatrix)"
   ]
  }
 ],
 "metadata": {
  "kernelspec": {
   "display_name": "Python 3",
   "language": "python",
   "name": "python3"
  },
  "language_info": {
   "codemirror_mode": {
    "name": "ipython",
    "version": 3
   },
   "file_extension": ".py",
   "mimetype": "text/x-python",
   "name": "python",
   "nbconvert_exporter": "python",
   "pygments_lexer": "ipython3",
   "version": "3.6.3"
  }
 },
 "nbformat": 4,
 "nbformat_minor": 2
}
