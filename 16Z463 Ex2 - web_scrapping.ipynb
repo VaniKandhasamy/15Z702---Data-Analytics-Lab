{
 "cells": [
  {
   "cell_type": "markdown",
   "metadata": {},
   "source": [
    "# Exercise 2\n",
    "## Perform web scrapping on PSG IM website to display names of faculty with Ph.D\n",
    "\n",
    "### Step 1: Get web page response\n",
    "Using requests package in python, get the response for the URL of PSG IM Faculty web page"
   ]
  },
  {
   "cell_type": "code",
   "execution_count": 5,
   "metadata": {},
   "outputs": [
    {
     "name": "stdout",
     "output_type": "stream",
     "text": [
      "<Response [200]>\n"
     ]
    }
   ],
   "source": [
    "import requests\n",
    "r  = requests.get(\"http://psgim.ac.in/2017/01/full-time-faculty/\")\n",
    "print(r)"
   ]
  },
  {
   "cell_type": "markdown",
   "metadata": {},
   "source": [
    "### Step 2: Retrieve all faculty names\n",
    "The names of the faculty are wrapped within a 'div' tag with class 'vc_column-inner' and has heading 4 as text formatting. We retrieve such data by inspecting the webpage in the web browser. To pull such data from a HTML file, we use 'BeautifulSoup' package"
   ]
  },
  {
   "cell_type": "code",
   "execution_count": 10,
   "metadata": {},
   "outputs": [
    {
     "name": "stdout",
     "output_type": "stream",
     "text": [
      "Number of faculties 31\n",
      "1 Dr Archana Krishnan\n",
      "2 DR ARUL RAJAN K\n",
      "3 DR Balasudarsun N L\n",
      "4 DR DEEPA R\n",
      "5 Mr Harish V \n",
      "6 DR JAGAJEEVAN R\n",
      "7 DR JOSHUA SELVAKUMAR J\n",
      "8 Mr Karthikeyan M S\n",
      "9 Mr KARTHIKEYAN L \n",
      "10 DR KAVITHA D\n",
      "11 Dr KRISHNAVENI R\n",
      "12 DR KRISHNAVENI MUTHIAH R\n",
      "13 Dr MANJU P GEORGE\n",
      "14 MR Manikandan S S\n",
      "15 DR MANSURALI A\n",
      "16 Ms Rajeswari R\n",
      "17 DR RAMAN H\n",
      "18 Dr RAMKUMAR N\n",
      "19 DR SATHISH M\n",
      "20 DR SATHYANARAYANAN R S\n",
      "21 DR SEKKIZHAR J\n",
      "22  Dr Srigayathri Devi K\n",
      "23 Dr SRIVIDYA V\n",
      "24 DR SUJATHA R \n",
      "25 DR SUDHARANI RAVINDRAN D\n",
      "26 DR SWAMYNATHAN R\n",
      "27 DR THILAGAM V\n",
      "28 DR UMA MAHESWARI B\n",
      "29 DR UMESH CHANDRASEKHAR\n",
      "30 Dr VIJAYA T G\n",
      "31 DR VIVEK N\n"
     ]
    }
   ],
   "source": [
    "#Import BeautifulSoup for extracting data from a HTML file\n",
    "from bs4 import BeautifulSoup\n",
    "\n",
    "#Extract HTML content from the HTML response \n",
    "soup = BeautifulSoup(r.content, 'html.parser')\n",
    "\n",
    "#Filter div tags with class 'vc_column_inner'\n",
    "faculty = soup.findAll('div',{\"class\":\"vc_column-inner\"})\n",
    "\n",
    "#Retrieve all faculty names (written in 'h4') and store in a list\n",
    "facultyName = []\n",
    "for i in range(len(faculty)):\n",
    "    if faculty[i].find('h4'):\n",
    "        facultyName.append(faculty[i].find('h4').text)\n",
    "\n",
    "#This person does not have any qualification or designation, hence it was removed\n",
    "facultyName.remove('Ms Muthu Janaki')\n",
    "\n",
    "print('Number of faculties',len(facultyName))\n",
    "for i in range(len(facultyName)):\n",
    "    print(str(i+1)+\" \"+facultyName[i])"
   ]
  },
  {
   "cell_type": "markdown",
   "metadata": {},
   "source": [
    "### Step 3: Filter names of faculty with Ph.D\n",
    "Scrape through every div tag with text 'Qualification', and identify those with 'Ph.D'. If 'Ph.D' is present in the faculty's qualification, print the faculty name."
   ]
  },
  {
   "cell_type": "code",
   "execution_count": 16,
   "metadata": {},
   "outputs": [
    {
     "name": "stdout",
     "output_type": "stream",
     "text": [
      "Faculty with Ph.D: \n",
      "1 Dr Archana Krishnan\n",
      "2 DR ARUL RAJAN K\n",
      "3 DR Balasudarsun N L\n",
      "4 DR DEEPA R\n",
      "5 Mr Harish V \n",
      "6 DR JAGAJEEVAN R\n",
      "7 DR JOSHUA SELVAKUMAR J\n",
      "8 DR KAVITHA D\n",
      "9 Dr KRISHNAVENI R\n",
      "10 DR KRISHNAVENI MUTHIAH R\n",
      "11 Dr MANJU P GEORGE\n",
      "12 DR MANSURALI A\n",
      "13 DR RAMAN H\n",
      "14 Dr RAMKUMAR N\n",
      "15 DR SATHISH M\n",
      "16 DR SATHYANARAYANAN R S\n",
      "17 DR SEKKIZHAR J\n",
      "18  Dr Srigayathri Devi K\n",
      "19 Dr SRIVIDYA V\n",
      "20 DR SUJATHA R \n",
      "21 DR SUDHARANI RAVINDRAN D\n",
      "22 DR SWAMYNATHAN R\n",
      "23 DR THILAGAM V\n",
      "24 DR UMA MAHESWARI B\n",
      "25 DR UMESH CHANDRASEKHAR\n",
      "26 Dr VIJAYA T G\n",
      "27 DR VIVEK N\n",
      "Total number of faculties with Ph.D =  27\n"
     ]
    }
   ],
   "source": [
    "#index variable to keep track of faculty names\n",
    "index = -1\n",
    "count = 0\n",
    "\n",
    "#Finds all 'p' tag that has the class 'wpb_text_column'\n",
    "faculty = soup.findAll('div',{\"class\":\"wpb_text_column\"})\n",
    "\n",
    "print(\"Faculty with Ph.D: \")\n",
    "for i in range(len(faculty)):\n",
    "    if faculty[i].find('p'):\n",
    "        #if the text of 'p' tag has 'Qualification'\n",
    "        if faculty[i].find('p').text.find('Qualification')!=-1:\n",
    "            index=index+1\n",
    "            #if the qualification has 'Ph.D' or 'PhD'\n",
    "            if faculty[i].find('p').text.find('Ph.D')!=-1 or faculty[i].find('p').text.find('Ph.D.,')!=-1 or faculty[i].find('p').text.find('PhD')!=-1:\n",
    "                #print the faculty name from the list created above\n",
    "                count=count+1\n",
    "                print(count,facultyName[index])"
   ]
  },
  {
   "cell_type": "code",
   "execution_count": null,
   "metadata": {},
   "outputs": [],
   "source": []
  }
 ],
 "metadata": {
  "kernelspec": {
   "display_name": "Python 3",
   "language": "python",
   "name": "python3"
  },
  "language_info": {
   "codemirror_mode": {
    "name": "ipython",
    "version": 3
   },
   "file_extension": ".py",
   "mimetype": "text/x-python",
   "name": "python",
   "nbconvert_exporter": "python",
   "pygments_lexer": "ipython3",
   "version": "3.7.0"
  }
 },
 "nbformat": 4,
 "nbformat_minor": 2
}
