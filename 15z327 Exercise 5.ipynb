{
 "cells": [
  {
   "cell_type": "code",
   "execution_count": 1,
   "metadata": {},
   "outputs": [
    {
     "name": "stdout",
     "output_type": "stream",
     "text": [
      "Number of values?4\n",
      "Enter x and y\n",
      "X=1\n",
      "Y=2\n",
      "X=1\n",
      "Y=1.1\n",
      "X=3\n",
      "Y=4\n",
      "X=2\n",
      "Y=1.4\n"
     ]
    }
   ],
   "source": [
    "import matplotlib.pyplot as plt\n",
    "no = int(input(\"Number of values?\"))\n",
    "pt = []\n",
    "print(\"Enter x and y\")\n",
    "for i in range(no):\n",
    "    pt.append([])\n",
    "    pt[i].append(float(input(\"X=\")))\n",
    "    pt[i].append(float(input(\"Y=\")))"
   ]
  },
  {
   "cell_type": "code",
   "execution_count": 2,
   "metadata": {},
   "outputs": [
    {
     "data": {
      "text/plain": [
       "[<matplotlib.lines.Line2D at 0x24eb705ae80>]"
      ]
     },
     "execution_count": 2,
     "metadata": {},
     "output_type": "execute_result"
    },
    {
     "data": {
      "image/png": "[encoded data removed]",
      "text/plain": [
       "<matplotlib.figure.Figure at 0x24eae098860>"
      ]
     },
     "metadata": {},
     "output_type": "display_data"
    }
   ],
   "source": [
    "plt.plot([group[0] for group in pt], [group[1] for group in pt], 'ro')"
   ]
  },
  {
   "cell_type": "code",
   "execution_count": 4,
   "metadata": {},
   "outputs": [
    {
     "name": "stdout",
     "output_type": "stream",
     "text": [
      "Mean of X = 1.75\n",
      "Mean of Y = 2.125\n"
     ]
    }
   ],
   "source": [
    "xM = sum([group[0] for group in pt])/no\n",
    "yM = sum([group[1] for group in pt])/no\n",
    "print(\"Mean of X = \"+str(xM))\n",
    "print(\"Mean of Y = \"+str(yM))"
   ]
  },
  {
   "cell_type": "code",
   "execution_count": 5,
   "metadata": {},
   "outputs": [
    {
     "name": "stdout",
     "output_type": "stream",
     "text": [
      "XY sum 17.9\n"
     ]
    }
   ],
   "source": [
    "xy = 0\n",
    "for i in range(no):\n",
    "    xy = xy + pt[i][0]*pt[i][1]\n",
    "print('XY sum',xy)"
   ]
  },
  {
   "cell_type": "code",
   "execution_count": 8,
   "metadata": {},
   "outputs": [
    {
     "name": "stdout",
     "output_type": "stream",
     "text": [
      "y is 1.1x +0.2\n"
     ]
    }
   ],
   "source": [
    "beta = (xy - no*xM*yM)/((sum([group[0]**2 for group in pt])) - no*(xM**2))\n",
    "alpha = yM - beta*xM\n",
    "print(\"y is \"+str(round(beta,3))+\"x +\"+str(round(alpha,3)))"
   ]
  },
  {
   "cell_type": "code",
   "execution_count": 10,
   "metadata": {},
   "outputs": [
    {
     "data": {
      "text/plain": [
       "[<matplotlib.lines.Line2D at 0x24eb7068a20>]"
      ]
     },
     "execution_count": 10,
     "metadata": {},
     "output_type": "execute_result"
    },
    {
     "data": {
      "image/png": "[encoded data removed]",
      "text/plain": [
       "<matplotlib.figure.Figure at 0x24eb70beda0>"
      ]
     },
     "metadata": {},
     "output_type": "display_data"
    }
   ],
   "source": [
    "import numpy as np\n",
    "x = np.array([group[0] for group in pt])\n",
    "y = np.array([group[1] for group in pt])\n",
    "plt.plot(x, y, 'ro')\n",
    "plt.plot(x,alpha*x+beta )"
   ]
  },
  {
   "cell_type": "code",
   "execution_count": null,
   "metadata": {},
   "outputs": [],
   "source": []
  }
 ],
 "metadata": {
  "kernelspec": {
   "display_name": "Python 3",
   "language": "python",
   "name": "python3"
  },
  "language_info": {
   "codemirror_mode": {
    "name": "ipython",
    "version": 3
   },
   "file_extension": ".py",
   "mimetype": "text/x-python",
   "name": "python",
   "nbconvert_exporter": "python",
   "pygments_lexer": "ipython3",
   "version": "3.6.4"
  }
 },
 "nbformat": 4,
 "nbformat_minor": 2
}
