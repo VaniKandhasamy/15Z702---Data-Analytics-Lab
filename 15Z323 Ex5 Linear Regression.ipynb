{
 "cells": [
  {
   "cell_type": "code",
   "execution_count": 7,
   "metadata": {},
   "outputs": [
    {
     "name": "stdout",
     "output_type": "stream",
     "text": [
      "Enter the no of x and y values5\n",
      "Enter the x value1\n",
      "Enter the y value2\n",
      "Enter the x value2\n",
      "Enter the y value1\n",
      "Enter the x value3\n",
      "Enter the y value5\n",
      "Enter the x value4\n",
      "Enter the y value3\n",
      "Enter the x value5\n",
      "Enter the y value6\n"
     ]
    }
   ],
   "source": [
    "import matplotlib.pyplot as plt\n",
    "no=int(input(\"Enter the no of x and y values\"))\n",
    "x = []\n",
    "y = []\n",
    "for i in range(int(no)):\n",
    "    x.append(float(input(\"Enter the x value\")))\n",
    "    y.append(float(input(\"Enter the y value\")))"
   ]
  },
  {
   "cell_type": "code",
   "execution_count": 8,
   "metadata": {},
   "outputs": [
    {
     "data": {
      "text/plain": [
       "[<matplotlib.lines.Line2D at 0x13b42d72940>]"
      ]
     },
     "execution_count": 8,
     "metadata": {},
     "output_type": "execute_result"
    },
    {
     "data": {
      "image/png": "[encoded data removed]",
      "text/plain": [
       "<Figure size 432x288 with 1 Axes>"
      ]
     },
     "metadata": {},
     "output_type": "display_data"
    }
   ],
   "source": [
    "plt.plot(x,y,'ro')"
   ]
  },
  {
   "cell_type": "code",
   "execution_count": 9,
   "metadata": {},
   "outputs": [
    {
     "name": "stdout",
     "output_type": "stream",
     "text": [
      "Mean of x value is3.0\n",
      "Mean of y value is3.4\n",
      "'a' value is :0.3999999999999999\n",
      "'b' value is :1.0\n",
      "y = 0.4x + 1.0\n"
     ]
    }
   ],
   "source": [
    "import statistics\n",
    "xmean=statistics.mean(x)\n",
    "ymean=statistics.mean(y)\n",
    "xy=0;\n",
    "xsqrt=0;\n",
    "for i in range(int(no)):\n",
    "    xy=xy+(x[i]*y[i])\n",
    "    xsqrt=xsqrt+(x[i]*x[i])\n",
    "b=(xy-(int(no)*xmean*ymean))/(xsqrt-(int(no)*(xmean*xmean)))\n",
    "a=ymean-(b*xmean)\n",
    "print(\"Mean of x value is\"+str(xmean))\n",
    "print(\"Mean of y value is\"+str(ymean))\n",
    "print(\"'a' value is :\"+str(a))\n",
    "print(\"'b' value is :\"+str(b))\n",
    "print(\"y = \"+str(round(a,3))+\"x + \"+str(round(b,3)))"
   ]
  },
  {
   "cell_type": "code",
   "execution_count": 12,
   "metadata": {},
   "outputs": [
    {
     "data": {
      "text/plain": [
       "[<matplotlib.lines.Line2D at 0x13b42e53208>]"
      ]
     },
     "execution_count": 12,
     "metadata": {},
     "output_type": "execute_result"
    },
    {
     "data": {
      "image/png": "[encoded data removed]",
      "text/plain": [
       "<Figure size 432x288 with 1 Axes>"
      ]
     },
     "metadata": {},
     "output_type": "display_data"
    }
   ],
   "source": [
    "import numpy as np\n",
    "plt.plot(x, y, 'ro')\n",
    "plt.plot(np.array(x),b*np.array(x)+a,'r')"
   ]
  },
  {
   "cell_type": "code",
   "execution_count": null,
   "metadata": {},
   "outputs": [],
   "source": []
  }
 ],
 "metadata": {
  "kernelspec": {
   "display_name": "Python 3",
   "language": "python",
   "name": "python3"
  },
  "language_info": {
   "codemirror_mode": {
    "name": "ipython",
    "version": 3
   },
   "file_extension": ".py",
   "mimetype": "text/x-python",
   "name": "python",
   "nbconvert_exporter": "python",
   "pygments_lexer": "ipython3",
   "version": "3.7.0"
  }
 },
 "nbformat": 4,
 "nbformat_minor": 2
}
