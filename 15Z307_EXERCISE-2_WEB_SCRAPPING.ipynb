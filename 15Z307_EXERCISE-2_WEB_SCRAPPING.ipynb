{
 "cells": [
  {
   "cell_type": "code",
   "execution_count": 7,
   "metadata": {},
   "outputs": [
    {
     "name": "stdout",
     "output_type": "stream",
     "text": [
      "Dr Archana Krishnan\n",
      "DR ARUL RAJAN K\n",
      "DR Balasudarsun N L\n",
      "DR DEEPA R\n",
      "DR JAGAJEEVAN R\n",
      "DR JOSHUA SELVAKUMAR J\n",
      "DR KAVITHA D\n",
      "Dr KRISHNAVENI R\n",
      "DR KRISHNAVENI MUTHIAH R\n",
      "Dr MANJU P GEORGE\n",
      "DR MANSURALI A\n",
      "DR RAMAN H\n",
      "Dr RAMKUMAR N\n",
      "DR SATHISH M\n",
      "DR SATHYANARAYANAN R S\n",
      "DR SEKKIZHAR J\n",
      " Dr Srigayathri Devi K\n",
      "Dr SRIVIDYA V\n",
      "DR SUJATHA R \n",
      "DR SUDHARANI RAVINDRAN D\n",
      "DR SWAMYNATHAN R\n",
      "DR THILAGAM V\n",
      "DR UMA MAHESWARI B\n",
      "DR UMESH CHANDRASEKHAR\n",
      "Dr VIJAYA T G\n",
      "DR VIVEK N\n",
      "total:  26\n"
     ]
    }
   ],
   "source": [
    "import requests\n",
    "from bs4 import BeautifulSoup\n",
    " \n",
    "\n",
    "url='http://psgim.ac.in/2017/01/full-time-faculty/'\n",
    "\n",
    "resp=requests.get(url)\n",
    "    \n",
    "if resp.status_code==200:\n",
    "    \n",
    "\n",
    "    soup=BeautifulSoup(resp.text,'html.parser')    \n",
    "  \n",
    "    l=soup.find(\"div\",{\"class\":\"wpb_wrapper\"})\n",
    "     \n",
    "    count=0\n",
    "    for i in l.findAll(\"a\"):\n",
    "        \n",
    "        str=i.text\n",
    "        if \"Dr\" in str:\n",
    "            print(str)\n",
    "            count=count+1\n",
    "        elif \"DR\" in str:\n",
    "            print(str)\n",
    "            count=count+1\n",
    "        elif \"dr\" in str:\n",
    "            print(str)\n",
    "            count=count+1\n",
    "    print(\"total: \",count)\n",
    "        \n",
    "else:\n",
    "    print(\"Error\")\n",
    "         \n"
   ]
  },
  {
   "cell_type": "code",
   "execution_count": null,
   "metadata": {
    "collapsed": true
   },
   "outputs": [],
   "source": []
  }
 ],
 "metadata": {
  "kernelspec": {
   "display_name": "Python 3",
   "language": "python",
   "name": "python3"
  },
  "language_info": {
   "codemirror_mode": {
    "name": "ipython",
    "version": 3
   },
   "file_extension": ".py",
   "mimetype": "text/x-python",
   "name": "python",
   "nbconvert_exporter": "python",
   "pygments_lexer": "ipython3",
   "version": "3.6.3"
  }
 },
 "nbformat": 4,
 "nbformat_minor": 2
}
