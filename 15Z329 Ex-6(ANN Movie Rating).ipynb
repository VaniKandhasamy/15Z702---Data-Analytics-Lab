{
 "cells": [
  {
   "cell_type": "code",
   "execution_count": 1,
   "metadata": {},
   "outputs": [
    {
     "data": {
      "text/plain": [
       "(5043, 28)"
      ]
     },
     "execution_count": 1,
     "metadata": {},
     "output_type": "execute_result"
    }
   ],
   "source": [
    "import numpy as np\n",
    "import pandas as pd\n",
    "df = pd.read_csv('E:\\movie_metadata.csv')\n",
    "df.shape"
   ]
  },
  {
   "cell_type": "code",
   "execution_count": 3,
   "metadata": {},
   "outputs": [
    {
     "data": {
      "text/html": [
       "<div>\n",
       "<style scoped>\n",
       "    .dataframe tbody tr th:only-of-type {\n",
       "        vertical-align: middle;\n",
       "    }\n",
       "\n",
       "    .dataframe tbody tr th {\n",
       "        vertical-align: top;\n",
       "    }\n",
       "\n",
       "    .dataframe thead th {\n",
       "        text-align: right;\n",
       "    }\n",
       "</style>\n",
       "<table border=\"1\" class=\"dataframe\">\n",
       "  <thead>\n",
       "    <tr style=\"text-align: right;\">\n",
       "      <th></th>\n",
       "      <th>num_critic_for_reviews</th>\n",
       "      <th>director_facebook_likes</th>\n",
       "      <th>actor_1_facebook_likes</th>\n",
       "      <th>actor_2_facebook_likes</th>\n",
       "      <th>actor_3_facebook_likes</th>\n",
       "      <th>movie_facebook_likes</th>\n",
       "      <th>imdb_score</th>\n",
       "    </tr>\n",
       "  </thead>\n",
       "  <tbody>\n",
       "    <tr>\n",
       "      <th>0</th>\n",
       "      <td>723.0</td>\n",
       "      <td>0.0</td>\n",
       "      <td>1000.0</td>\n",
       "      <td>936.0</td>\n",
       "      <td>855.0</td>\n",
       "      <td>33000</td>\n",
       "      <td>7.9</td>\n",
       "    </tr>\n",
       "    <tr>\n",
       "      <th>1</th>\n",
       "      <td>302.0</td>\n",
       "      <td>563.0</td>\n",
       "      <td>40000.0</td>\n",
       "      <td>5000.0</td>\n",
       "      <td>1000.0</td>\n",
       "      <td>0</td>\n",
       "      <td>7.1</td>\n",
       "    </tr>\n",
       "    <tr>\n",
       "      <th>2</th>\n",
       "      <td>602.0</td>\n",
       "      <td>0.0</td>\n",
       "      <td>11000.0</td>\n",
       "      <td>393.0</td>\n",
       "      <td>161.0</td>\n",
       "      <td>85000</td>\n",
       "      <td>6.8</td>\n",
       "    </tr>\n",
       "    <tr>\n",
       "      <th>3</th>\n",
       "      <td>813.0</td>\n",
       "      <td>22000.0</td>\n",
       "      <td>27000.0</td>\n",
       "      <td>23000.0</td>\n",
       "      <td>23000.0</td>\n",
       "      <td>164000</td>\n",
       "      <td>8.5</td>\n",
       "    </tr>\n",
       "    <tr>\n",
       "      <th>4</th>\n",
       "      <td>NaN</td>\n",
       "      <td>131.0</td>\n",
       "      <td>131.0</td>\n",
       "      <td>12.0</td>\n",
       "      <td>NaN</td>\n",
       "      <td>0</td>\n",
       "      <td>7.1</td>\n",
       "    </tr>\n",
       "  </tbody>\n",
       "</table>\n",
       "</div>"
      ],
      "text/plain": [
       "   num_critic_for_reviews  director_facebook_likes  actor_1_facebook_likes  \\\n",
       "0                   723.0                      0.0                  1000.0   \n",
       "1                   302.0                    563.0                 40000.0   \n",
       "2                   602.0                      0.0                 11000.0   \n",
       "3                   813.0                  22000.0                 27000.0   \n",
       "4                     NaN                    131.0                   131.0   \n",
       "\n",
       "   actor_2_facebook_likes  actor_3_facebook_likes  movie_facebook_likes  \\\n",
       "0                   936.0                   855.0                 33000   \n",
       "1                  5000.0                  1000.0                     0   \n",
       "2                   393.0                   161.0                 85000   \n",
       "3                 23000.0                 23000.0                164000   \n",
       "4                    12.0                     NaN                     0   \n",
       "\n",
       "   imdb_score  \n",
       "0         7.9  \n",
       "1         7.1  \n",
       "2         6.8  \n",
       "3         8.5  \n",
       "4         7.1  "
      ]
     },
     "execution_count": 3,
     "metadata": {},
     "output_type": "execute_result"
    }
   ],
   "source": [
    "df = df[['num_critic_for_reviews','director_facebook_likes','actor_1_facebook_likes','actor_2_facebook_likes','actor_3_facebook_likes','movie_facebook_likes','imdb_score']]\n",
    "df.head()"
   ]
  },
  {
   "cell_type": "code",
   "execution_count": 4,
   "metadata": {},
   "outputs": [
    {
     "name": "stdout",
     "output_type": "stream",
     "text": [
      "num_critic_for_reviews      50\n",
      "director_facebook_likes    104\n",
      "actor_1_facebook_likes       7\n",
      "actor_2_facebook_likes      13\n",
      "actor_3_facebook_likes      23\n",
      "movie_facebook_likes         0\n",
      "imdb_score                   0\n",
      "dtype: int64\n"
     ]
    }
   ],
   "source": [
    "print(df.isnull().sum())"
   ]
  },
  {
   "cell_type": "code",
   "execution_count": 6,
   "metadata": {},
   "outputs": [
    {
     "name": "stdout",
     "output_type": "stream",
     "text": [
      "num_critic_for_reviews     0\n",
      "director_facebook_likes    0\n",
      "actor_1_facebook_likes     0\n",
      "actor_2_facebook_likes     0\n",
      "actor_3_facebook_likes     0\n",
      "movie_facebook_likes       0\n",
      "imdb_score                 0\n",
      "dtype: int64\n"
     ]
    }
   ],
   "source": [
    "for i in df.columns:\n",
    "    if df[i].isnull().sum()>0:\n",
    "        df[i] = df[i].fillna(df[i].mean())\n",
    "print(df.isnull().sum())"
   ]
  },
  {
   "cell_type": "code",
   "execution_count": 7,
   "metadata": {},
   "outputs": [],
   "source": [
    "from sklearn.neural_network import MLPClassifier\n",
    "\n",
    "Y = df['imdb_score'].round().values\n",
    "X = df.drop(['imdb_score'],axis=1).values\n",
    "\n",
    "classification = MLPClassifier(hidden_layer_sizes=(10), solver='sgd', activation=\"logistic\")"
   ]
  },
  {
   "cell_type": "code",
   "execution_count": 8,
   "metadata": {},
   "outputs": [
    {
     "name": "stdout",
     "output_type": "stream",
     "text": [
      "0.3528245787908821\n",
      "0.379583746283449\n",
      "0.3518334985133796\n",
      "0.3462301587301587\n",
      "0.3115079365079365\n"
     ]
    }
   ],
   "source": [
    "from sklearn.model_selection import KFold\n",
    "kf = KFold(n_splits=5)\n",
    "for train_indices, test_indices in kf.split(X):\n",
    "    classification.fit(X[train_indices], Y[train_indices])\n",
    "    print(classification.score(X[test_indices], Y[test_indices]))"
   ]
  },
  {
   "cell_type": "code",
   "execution_count": 11,
   "metadata": {},
   "outputs": [
    {
     "name": "stderr",
     "output_type": "stream",
     "text": [
      "C:\\Users\\hp\\Anaconda3\\lib\\site-packages\\sklearn\\neural_network\\multilayer_perceptron.py:564: ConvergenceWarning: Stochastic Optimizer: Maximum iterations (200) reached and the optimization hasn't converged yet.\n",
      "  % self.max_iter, ConvergenceWarning)\n"
     ]
    },
    {
     "name": "stdout",
     "output_type": "stream",
     "text": [
      "Average accuracy score:  0.27\n"
     ]
    }
   ],
   "source": [
    "from sklearn.model_selection import LeaveOneOut\n",
    "l = LeaveOneOut()\n",
    "Y = df['imdb_score'].round()[0:100].values\n",
    "X = df.drop(['imdb_score'],axis=1)[0:100].values\n",
    "avg=0\n",
    "for train_indices, test_indices in l.split(X):\n",
    "    classification.fit(X[train_indices], Y[train_indices])\n",
    "    avg = avg + classification.score(X[test_indices], Y[test_indices])\n",
    "print('Average accuracy score: ',avg/100)"
   ]
  },
  {
   "cell_type": "code",
   "execution_count": null,
   "metadata": {},
   "outputs": [],
   "source": []
  }
 ],
 "metadata": {
  "kernelspec": {
   "display_name": "Python 3",
   "language": "python",
   "name": "python3"
  },
  "language_info": {
   "codemirror_mode": {
    "name": "ipython",
    "version": 3
   },
   "file_extension": ".py",
   "mimetype": "text/x-python",
   "name": "python",
   "nbconvert_exporter": "python",
   "pygments_lexer": "ipython3",
   "version": "3.6.4"
  }
 },
 "nbformat": 4,
 "nbformat_minor": 2
}
