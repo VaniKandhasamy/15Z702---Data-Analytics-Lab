{
 "cells": [
  {
   "cell_type": "code",
   "execution_count": 16,
   "metadata": {},
   "outputs": [
    {
     "name": "stdout",
     "output_type": "stream",
     "text": [
      "Faculty with Ph.D: \n",
      "1 Dr Archana Krishnan\n",
      "2 DR ARUL RAJAN K\n",
      "3 DR Balasudarsun N L\n",
      "4 DR DEEPA R\n",
      "5 Mr Harish V \n",
      "6 DR JAGAJEEVAN R\n",
      "7 DR JOSHUA SELVAKUMAR J\n",
      "8 DR KAVITHA D\n",
      "9 Dr KRISHNAVENI R\n",
      "10 DR KRISHNAVENI MUTHIAH R\n",
      "11 Dr MANJU P GEORGE\n",
      "12 DR MANSURALI A\n",
      "13 DR RAMAN H\n",
      "14 Dr RAMKUMAR N\n",
      "15 DR SATHISH M\n",
      "16 DR SATHYANARAYANAN R S\n",
      "17 DR SEKKIZHAR J\n",
      "18  Dr Srigayathri Devi K\n",
      "19 Dr SRIVIDYA V\n",
      "20 DR SUJATHA R \n",
      "21 DR SUDHARANI RAVINDRAN D\n",
      "22 DR SWAMYNATHAN R\n",
      "23 DR THILAGAM V\n",
      "24 DR UMA MAHESWARI B\n",
      "25 DR UMESH CHANDRASEKHAR\n",
      "26 Dr VIJAYA T G\n",
      "27 DR VIVEK N\n",
      "Total number of faculties with Ph.D =  27\n"
     ]
    }
   ],
   "source": [
    "import requests\n",
    "from bs4 import BeautifulSoup\n",
    "\n",
    "def WSPSGIM()\n",
    "    webpage = requests.get('http://psgim.ac.in/2017/01/full-time-faculty/')\n",
    "    webpage.headers\n",
    "    webpage.status_code\n",
    "    r = webpage.content\n",
    "\n",
    "    if webpage.status_code == 200:\n",
    "    \tsoup = BeautifulSoup(r, 'html.parser')\n",
    "    \tl = soup.find(\"div\", {\"class\":\"wpb_wrapper\"})\n",
    "        print(\"Faculty with Ph.D\")\n",
    "    \tcount = 0\n",
    "    \tfor i in l.findAll(\"a\"):\n",
    "        \tstr = i.text\n",
    "        \tif \"Dr\" in str:\n",
    "            \t\tprint(str)\n",
    "        \tif \"DR\" in str:\n",
    "            \t\tprint(str)\n",
    "        \tif \"dR\" in str:\n",
    "            \t\tprint(str)\n",
    "        \tif \"dr\" in str:\n",
    "            \t\tprint(str)\n",
    "            \t\tcount = count + 1\n",
    "    \tprint(\"Total number of faculties with a Ph.D = \", count)\n",
    "\n",
    "    else:\n",
    "    \tprint(\"Error.\")\n",
    "\n",
    "WSPSGIM()"
   ]
  },
  {
   "cell_type": "code",
   "execution_count": null,
   "metadata": {},
   "outputs": [],
   "source": []
  }
 ],
 "metadata": {
  "kernelspec": {
   "display_name": "Python 3",
   "language": "python",
   "name": "python3"
  },
  "language_info": {
   "codemirror_mode": {
    "name": "ipython",
    "version": 3
   },
   "file_extension": ".py",
   "mimetype": "text/x-python",
   "name": "python",
   "nbconvert_exporter": "python",
   "pygments_lexer": "ipython3",
   "version": "3.6.6"
  }
 },
 "nbformat": 4,
 "nbformat_minor": 2
}
