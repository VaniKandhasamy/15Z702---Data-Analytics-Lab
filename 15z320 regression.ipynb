{
 "cells": [
  {
   "cell_type": "code",
   "execution_count": 2,
   "metadata": {},
   "outputs": [
    {
     "name": "stdout",
     "output_type": "stream",
     "text": [
      "Enter the number of values5\n",
      "Enter (x,y):\n",
      "Xval = 1\n",
      "Yval = 2\n",
      "Xval = 4\n",
      "Yval = 3\n",
      "Xval = \n"
     ]
    },
    {
     "ename": "ValueError",
     "evalue": "could not convert string to float: ",
     "output_type": "error",
     "traceback": [
      "\u001b[1;31m---------------------------------------------------------------------------\u001b[0m",
      "\u001b[1;31mValueError\u001b[0m                                Traceback (most recent call last)",
      "\u001b[1;32m<ipython-input-2-43087c3e11e8>\u001b[0m in \u001b[0;36m<module>\u001b[1;34m()\u001b[0m\n\u001b[0;32m      4\u001b[0m \u001b[1;32mfor\u001b[0m \u001b[0mi\u001b[0m \u001b[1;32min\u001b[0m \u001b[0mrange\u001b[0m\u001b[1;33m(\u001b[0m\u001b[0mn\u001b[0m\u001b[1;33m)\u001b[0m\u001b[1;33m:\u001b[0m\u001b[1;33m\u001b[0m\u001b[0m\n\u001b[0;32m      5\u001b[0m     \u001b[0mpoints\u001b[0m\u001b[1;33m.\u001b[0m\u001b[0mappend\u001b[0m\u001b[1;33m(\u001b[0m\u001b[1;33m[\u001b[0m\u001b[1;33m]\u001b[0m\u001b[1;33m)\u001b[0m\u001b[1;33m\u001b[0m\u001b[0m\n\u001b[1;32m----> 6\u001b[1;33m     \u001b[0mpoints\u001b[0m\u001b[1;33m[\u001b[0m\u001b[0mi\u001b[0m\u001b[1;33m]\u001b[0m\u001b[1;33m.\u001b[0m\u001b[0mappend\u001b[0m\u001b[1;33m(\u001b[0m\u001b[0mfloat\u001b[0m\u001b[1;33m(\u001b[0m\u001b[0minput\u001b[0m\u001b[1;33m(\u001b[0m\u001b[1;34m\"Xval = \"\u001b[0m\u001b[1;33m)\u001b[0m\u001b[1;33m)\u001b[0m\u001b[1;33m)\u001b[0m\u001b[1;33m\u001b[0m\u001b[0m\n\u001b[0m\u001b[0;32m      7\u001b[0m     \u001b[0mpoints\u001b[0m\u001b[1;33m[\u001b[0m\u001b[0mi\u001b[0m\u001b[1;33m]\u001b[0m\u001b[1;33m.\u001b[0m\u001b[0mappend\u001b[0m\u001b[1;33m(\u001b[0m\u001b[0mfloat\u001b[0m\u001b[1;33m(\u001b[0m\u001b[0minput\u001b[0m\u001b[1;33m(\u001b[0m\u001b[1;34m\"Yval = \"\u001b[0m\u001b[1;33m)\u001b[0m\u001b[1;33m)\u001b[0m\u001b[1;33m)\u001b[0m\u001b[1;33m\u001b[0m\u001b[0m\n\u001b[0;32m      8\u001b[0m \u001b[1;33m\u001b[0m\u001b[0m\n",
      "\u001b[1;31mValueError\u001b[0m: could not convert string to float: "
     ]
    }
   ],
   "source": [
    "n = int(input(\"Enter the number of values\"))\n",
    "points = []\n",
    "print(\"Enter (x,y):\")\n",
    "for i in range(n):\n",
    "    points.append([])\n",
    "    points[i].append(float(input(\"Xval = \")))\n",
    "    points[i].append(float(input(\"Yval = \")))\n",
    "\n",
    "\n",
    "import matplotlib.pyplot as plt\n",
    "plt.plot([group[0] for group in points], [group[1] for group in points], 'ro')\n",
    "\n",
    "\n",
    "xMean = sum([group[0] for group in points])/n\n",
    "yMean = sum([group[1] for group in points])/n\n",
    "print(\"X Mean = \"+str(xMean))\n",
    "print(\"Y Mean = \"+str(yMean))\n",
    "\n",
    "xy = 0\n",
    "for i in range(n):\n",
    "    xy = xy + points[i][0]*points[i][1]\n",
    "print('XY = ',xy)\n",
    "\n",
    "\n",
    "beta = (xy - n*xMean*yMean)/((sum([group[0]**2 for group in points])) - n*(xMean**2))\n",
    "alpha = yMean - beta*xMean\n",
    "print(\"y = \"+str(round(beta,3))+\"x + \"+str(round(alpha,3)))\n",
    "\n",
    "\n",
    "import numpy as np\n",
    "x = np.array([group[0] for group in points])\n",
    "y = np.array([group[1] for group in points])\n",
    "plt.plot(x, y, 'ro')\n",
    "plt.plot(x,a*x+b )\n",
    "\n"
   ]
  },
  {
   "cell_type": "markdown",
   "metadata": {},
   "source": [
    "n = int(input(\"Enter the number of values\"))\n",
    "points = []\n",
    "print(\"Enter (x,y):\")\n",
    "for i in range(n):\n",
    "    points.append([])\n",
    "    points[i].append(float(input(\"Xval = \")))\n",
    "    points[i].append(float(input(\"Yval = \")))\n",
    "\n",
    "\n",
    "import matplotlib.pyplot as plt\n",
    "plt.plot([group[0] for group in points], [group[1] for group in points], 'ro')\n",
    "\n",
    "\n",
    "xMean = sum([group[0] for group in points])/n\n",
    "yMean = sum([group[1] for group in points])/n\n",
    "print(\"X Mean = \"+str(xMean))\n",
    "print(\"Y Mean = \"+str(yMean))\n",
    "\n",
    "xy = 0\n",
    "for i in range(n):\n",
    "    xy = xy + points[i][0]*points[i][1]\n",
    "print('XY = ',xy)\n",
    "\n",
    "\n",
    "beta = (xy - n*xMean*yMean)/((sum([group[0]**2 for group in points])) - n*(xMean**2))\n",
    "alpha = yMean - beta*xMean\n",
    "print(\"y = \"+str(round(beta,3))+\"x + \"+str(round(alpha,3)))\n",
    "\n",
    "\n",
    "import numpy as np\n",
    "x = np.array([group[0] for group in points])\n",
    "y = np.array([group[1] for group in points])\n",
    "plt.plot(x, y, 'ro')\n",
    "plt.plot(x,a*x+b )\n",
    "\n"
   ]
  },
  {
   "cell_type": "code",
   "execution_count": 3,
   "metadata": {},
   "outputs": [
    {
     "name": "stdout",
     "output_type": "stream",
     "text": [
      "Enter the number of values5\n",
      "Enter (x,y):\n",
      "Xval = 1\n",
      "Yval = 2\n",
      "Xval = 3\n",
      "Yval = 4\n",
      "Xval = \n"
     ]
    },
    {
     "ename": "ValueError",
     "evalue": "could not convert string to float: ",
     "output_type": "error",
     "traceback": [
      "\u001b[1;31m---------------------------------------------------------------------------\u001b[0m",
      "\u001b[1;31mValueError\u001b[0m                                Traceback (most recent call last)",
      "\u001b[1;32m<ipython-input-3-43087c3e11e8>\u001b[0m in \u001b[0;36m<module>\u001b[1;34m()\u001b[0m\n\u001b[0;32m      4\u001b[0m \u001b[1;32mfor\u001b[0m \u001b[0mi\u001b[0m \u001b[1;32min\u001b[0m \u001b[0mrange\u001b[0m\u001b[1;33m(\u001b[0m\u001b[0mn\u001b[0m\u001b[1;33m)\u001b[0m\u001b[1;33m:\u001b[0m\u001b[1;33m\u001b[0m\u001b[0m\n\u001b[0;32m      5\u001b[0m     \u001b[0mpoints\u001b[0m\u001b[1;33m.\u001b[0m\u001b[0mappend\u001b[0m\u001b[1;33m(\u001b[0m\u001b[1;33m[\u001b[0m\u001b[1;33m]\u001b[0m\u001b[1;33m)\u001b[0m\u001b[1;33m\u001b[0m\u001b[0m\n\u001b[1;32m----> 6\u001b[1;33m     \u001b[0mpoints\u001b[0m\u001b[1;33m[\u001b[0m\u001b[0mi\u001b[0m\u001b[1;33m]\u001b[0m\u001b[1;33m.\u001b[0m\u001b[0mappend\u001b[0m\u001b[1;33m(\u001b[0m\u001b[0mfloat\u001b[0m\u001b[1;33m(\u001b[0m\u001b[0minput\u001b[0m\u001b[1;33m(\u001b[0m\u001b[1;34m\"Xval = \"\u001b[0m\u001b[1;33m)\u001b[0m\u001b[1;33m)\u001b[0m\u001b[1;33m)\u001b[0m\u001b[1;33m\u001b[0m\u001b[0m\n\u001b[0m\u001b[0;32m      7\u001b[0m     \u001b[0mpoints\u001b[0m\u001b[1;33m[\u001b[0m\u001b[0mi\u001b[0m\u001b[1;33m]\u001b[0m\u001b[1;33m.\u001b[0m\u001b[0mappend\u001b[0m\u001b[1;33m(\u001b[0m\u001b[0mfloat\u001b[0m\u001b[1;33m(\u001b[0m\u001b[0minput\u001b[0m\u001b[1;33m(\u001b[0m\u001b[1;34m\"Yval = \"\u001b[0m\u001b[1;33m)\u001b[0m\u001b[1;33m)\u001b[0m\u001b[1;33m)\u001b[0m\u001b[1;33m\u001b[0m\u001b[0m\n\u001b[0;32m      8\u001b[0m \u001b[1;33m\u001b[0m\u001b[0m\n",
      "\u001b[1;31mValueError\u001b[0m: could not convert string to float: "
     ]
    }
   ],
   "source": [
    "n = int(input(\"Enter the number of values\"))\n",
    "points = []\n",
    "print(\"Enter (x,y):\")\n",
    "for i in range(n):\n",
    "    points.append([])\n",
    "    points[i].append(float(input(\"Xval = \")))\n",
    "    points[i].append(float(input(\"Yval = \")))\n",
    "\n",
    "\n",
    "import matplotlib.pyplot as plt\n",
    "plt.plot([group[0] for group in points], [group[1] for group in points], 'ro')\n",
    "\n",
    "\n",
    "xMean = sum([group[0] for group in points])/n\n",
    "yMean = sum([group[1] for group in points])/n\n",
    "print(\"X Mean = \"+str(xMean))\n",
    "print(\"Y Mean = \"+str(yMean))\n",
    "\n",
    "xy = 0\n",
    "for i in range(n):\n",
    "    xy = xy + points[i][0]*points[i][1]\n",
    "print('XY = ',xy)\n",
    "\n",
    "\n",
    "beta = (xy - n*xMean*yMean)/((sum([group[0]**2 for group in points])) - n*(xMean**2))\n",
    "alpha = yMean - beta*xMean\n",
    "print(\"y = \"+str(round(beta,3))+\"x + \"+str(round(alpha,3)))\n",
    "\n",
    "\n",
    "import numpy as np\n",
    "x = np.array([group[0] for group in points])\n",
    "y = np.array([group[1] for group in points])\n",
    "plt.plot(x, y, 'ro')\n",
    "plt.plot(x,a*x+b )\n",
    "\n"
   ]
  },
  {
   "cell_type": "code",
   "execution_count": 4,
   "metadata": {},
   "outputs": [
    {
     "name": "stdout",
     "output_type": "stream",
     "text": [
      "Enter the number of values5\n",
      "Enter (x,y):\n",
      "Xval = 1\n",
      "Yval = 2\n",
      "Xval = 3\n",
      "Yval = 4\n",
      "Xval = 6\n",
      "Yval = 5\n",
      "Xval = 7\n",
      "Yval = 8\n",
      "Xval = 9\n",
      "Yval = 0\n",
      "X Mean = 5.2\n",
      "Y Mean = 3.8\n",
      "XY =  100.0\n",
      "y = 0.029x + 3.647\n"
     ]
    },
    {
     "ename": "NameError",
     "evalue": "name 'a' is not defined",
     "output_type": "error",
     "traceback": [
      "\u001b[1;31m---------------------------------------------------------------------------\u001b[0m",
      "\u001b[1;31mNameError\u001b[0m                                 Traceback (most recent call last)",
      "\u001b[1;32m<ipython-input-4-43087c3e11e8>\u001b[0m in \u001b[0;36m<module>\u001b[1;34m()\u001b[0m\n\u001b[0;32m     32\u001b[0m \u001b[0my\u001b[0m \u001b[1;33m=\u001b[0m \u001b[0mnp\u001b[0m\u001b[1;33m.\u001b[0m\u001b[0marray\u001b[0m\u001b[1;33m(\u001b[0m\u001b[1;33m[\u001b[0m\u001b[0mgroup\u001b[0m\u001b[1;33m[\u001b[0m\u001b[1;36m1\u001b[0m\u001b[1;33m]\u001b[0m \u001b[1;32mfor\u001b[0m \u001b[0mgroup\u001b[0m \u001b[1;32min\u001b[0m \u001b[0mpoints\u001b[0m\u001b[1;33m]\u001b[0m\u001b[1;33m)\u001b[0m\u001b[1;33m\u001b[0m\u001b[0m\n\u001b[0;32m     33\u001b[0m \u001b[0mplt\u001b[0m\u001b[1;33m.\u001b[0m\u001b[0mplot\u001b[0m\u001b[1;33m(\u001b[0m\u001b[0mx\u001b[0m\u001b[1;33m,\u001b[0m \u001b[0my\u001b[0m\u001b[1;33m,\u001b[0m \u001b[1;34m'ro'\u001b[0m\u001b[1;33m)\u001b[0m\u001b[1;33m\u001b[0m\u001b[0m\n\u001b[1;32m---> 34\u001b[1;33m \u001b[0mplt\u001b[0m\u001b[1;33m.\u001b[0m\u001b[0mplot\u001b[0m\u001b[1;33m(\u001b[0m\u001b[0mx\u001b[0m\u001b[1;33m,\u001b[0m\u001b[0ma\u001b[0m\u001b[1;33m*\u001b[0m\u001b[0mx\u001b[0m\u001b[1;33m+\u001b[0m\u001b[0mb\u001b[0m \u001b[1;33m)\u001b[0m\u001b[1;33m\u001b[0m\u001b[0m\n\u001b[0m",
      "\u001b[1;31mNameError\u001b[0m: name 'a' is not defined"
     ]
    },
    {
     "data": {
      "image/png": "[encoded data removed]",
      "text/plain": [
       "<Figure size 432x288 with 1 Axes>"
      ]
     },
     "metadata": {},
     "output_type": "display_data"
    }
   ],
   "source": [
    "n = int(input(\"Enter the number of values\"))\n",
    "points = []\n",
    "print(\"Enter (x,y):\")\n",
    "for i in range(n):\n",
    "    points.append([])\n",
    "    points[i].append(float(input(\"Xval = \")))\n",
    "    points[i].append(float(input(\"Yval = \")))\n",
    "\n",
    "\n",
    "import matplotlib.pyplot as plt\n",
    "plt.plot([group[0] for group in points], [group[1] for group in points], 'ro')\n",
    "\n",
    "\n",
    "xMean = sum([group[0] for group in points])/n\n",
    "yMean = sum([group[1] for group in points])/n\n",
    "print(\"X Mean = \"+str(xMean))\n",
    "print(\"Y Mean = \"+str(yMean))\n",
    "\n",
    "xy = 0\n",
    "for i in range(n):\n",
    "    xy = xy + points[i][0]*points[i][1]\n",
    "print('XY = ',xy)\n",
    "\n",
    "\n",
    "beta = (xy - n*xMean*yMean)/((sum([group[0]**2 for group in points])) - n*(xMean**2))\n",
    "alpha = yMean - beta*xMean\n",
    "print(\"y = \"+str(round(beta,3))+\"x + \"+str(round(alpha,3)))\n",
    "\n",
    "\n",
    "import numpy as np\n",
    "x = np.array([group[0] for group in points])\n",
    "y = np.array([group[1] for group in points])\n",
    "plt.plot(x, y, 'ro')\n",
    "plt.plot(x,a*x+b )\n",
    "\n"
   ]
  },
  {
   "cell_type": "code",
   "execution_count": null,
   "metadata": {},
   "outputs": [],
   "source": []
  }
 ],
 "metadata": {
  "kernelspec": {
   "display_name": "Python 3",
   "language": "python",
   "name": "python3"
  },
  "language_info": {
   "codemirror_mode": {
    "name": "ipython",
    "version": 3
   },
   "file_extension": ".py",
   "mimetype": "text/x-python",
   "name": "python",
   "nbconvert_exporter": "python",
   "pygments_lexer": "ipython3",
   "version": "3.6.5"
  }
 },
 "nbformat": 4,
 "nbformat_minor": 2
}
