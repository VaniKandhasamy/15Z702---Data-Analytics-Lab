{
 "cells": [
  {
   "cell_type": "code",
   "execution_count": 1,
   "metadata": {},
   "outputs": [
    {
     "data": {
      "text/plain": [
       "<Response [200]>"
      ]
     },
     "execution_count": 1,
     "metadata": {},
     "output_type": "execute_result"
    }
   ],
   "source": [
    "import requests\n",
    "varuna = requests.get(\"http://psgim.ac.in/2017/01/full-time-faculty/\")\n",
    "varuna"
   ]
  },
  {
   "cell_type": "code",
   "execution_count": 2,
   "metadata": {},
   "outputs": [
    {
     "name": "stdout",
     "output_type": "stream",
     "text": [
      "DR ARUL RAJAN K\n",
      "DR Balasudarsun N L\n",
      "DR DEEPA R\n",
      "DR JAGAJEEVAN R\n",
      "DR JOSHUA SELVAKUMAR J\n",
      "DR KAVITHA D\n",
      "DR KRISHNAVENI MUTHIAH R\n",
      "DR MANSURALI A\n",
      "DR RAMAN H\n",
      "DR SATHISH M\n",
      "DR SATHYANARAYANAN R S\n",
      "DR SEKKIZHAR J\n",
      "DR SUJATHA R \n",
      "DR SUDHARANI RAVINDRAN D\n",
      "DR SWAMYNATHAN R\n",
      "DR THILAGAM V\n",
      "DR UMA MAHESWARI B\n",
      "DR UMESH CHANDRASEKHAR\n",
      "DR VIVEK N\n"
     ]
    }
   ],
   "source": [
    "from bs4 import BeautifulSoup\n",
    "soup = BeautifulSoup(varuna.content, 'html.parser')\n",
    "for i in list(soup.select(\"div a\")):\n",
    "    str=i.text\n",
    "    if(len(str)==0):\n",
    "        continue\n",
    "    if(str[0]=='D' and str[1]=='R'):\n",
    "        print(str)\n"
   ]
  },
  {
   "cell_type": "code",
   "execution_count": null,
   "metadata": {},
   "outputs": [],
   "source": []
  }
 ],
 "metadata": {
  "kernelspec": {
   "display_name": "Python 3",
   "language": "python",
   "name": "python3"
  },
  "language_info": {
   "codemirror_mode": {
    "name": "ipython",
    "version": 3
   },
   "file_extension": ".py",
   "mimetype": "text/x-python",
   "name": "python",
   "nbconvert_exporter": "python",
   "pygments_lexer": "ipython3",
   "version": "3.6.5"
  }
 },
 "nbformat": 4,
 "nbformat_minor": 2
}
