{
 "cells": [
  {
   "cell_type": "code",
   "execution_count": 12,
   "metadata": {},
   "outputs": [
    {
     "name": "stdout",
     "output_type": "stream",
     "text": [
      "Number of mislabeled points out of a total 75 points : 4, performance 94.67%\n",
      "[[ 7  8  8]\n",
      " [ 9  8  8]\n",
      " [11  7  9]]\n"
     ]
    }
   ],
   "source": [
    "import pandas as pd\n",
    "\n",
    "import numpy as np\n",
    "\n",
    "import matplotlib.pyplot as plt\n",
    "\n",
    "import time\n",
    "\n",
    "from sklearn.model_selection import train_test_split\n",
    "\n",
    "from sklearn.naive_bayes import GaussianNB, BernoulliNB, MultinomialNB\n",
    "\n",
    "\n",
    "\n",
    "# Importing dataset\n",
    "\n",
    "data = pd.read_csv(\"C:\\\\Users\\\\HP\\\\Desktop\\\\IRIS.csv\")\n",
    "\n",
    "\n",
    "# Convert categorical variable to numeric\n",
    "\n",
    "\n",
    "\n",
    "# Cleaning dataset of NaN\n",
    "data[\"species\"]=np.where(data[\"species\"]==\"Iris-setosa\",0,\n",
    "\n",
    "                                  np.where(data[\"species\"]==\"Iris-versicolor\",1,\n",
    "\n",
    "                                           np.where(data[\"species\"]==\"Iris-virginica\",2,3)\n",
    "\n",
    "                                          )\n",
    "\n",
    "                                 )\n",
    "\n",
    "\n",
    "X_train, X_test = train_test_split(data, test_size=0.5, random_state=int(time.time()))\n",
    "\n",
    "\n",
    "gnb = GaussianNB()\n",
    "\n",
    "used_features =[\n",
    "\n",
    "    \"sepal_length\",\n",
    "\n",
    "    \"sepal_width\",\n",
    "\n",
    "    \"petal_length\",\n",
    "\n",
    "    \"petal_width\",\n",
    "\n",
    "]\n",
    "\n",
    "\n",
    "\n",
    "# Train classifier\n",
    "\n",
    "y_p=gnb.fit(\n",
    "\n",
    "    X_train[used_features].values,\n",
    "\n",
    "    X_train[\"species\"]\n",
    "\n",
    ")\n",
    "\n",
    "y_pred = gnb.predict(X_test[used_features])\n",
    "\n",
    "\n",
    "\n",
    "\n",
    "# Print results\n",
    "\n",
    "print(\"Number of mislabeled points out of a total {} points : {}, performance {:05.2f}%\"\n",
    "\n",
    "      .format(\n",
    "\n",
    "          X_test.shape[0],\n",
    "\n",
    "          (X_test[\"species\"] != y_pred).sum(),\n",
    "\n",
    "          100*(1-(X_test[\"species\"] != y_pred).sum()/X_test.shape[0])\n",
    "\n",
    "))\n",
    "\n",
    "\n",
    "from sklearn.metrics import classification_report,confusion_matrix\n",
    "\n",
    "print(confusion_matrix( X_train[\"species\"],y_pred))"
   ]
  },
  {
   "cell_type": "code",
   "execution_count": 14,
   "metadata": {},
   "outputs": [
    {
     "name": "stdout",
     "output_type": "stream",
     "text": [
      "             precision    recall  f1-score   support\n",
      "\n",
      "          0       0.26      0.30      0.28        23\n",
      "          1       0.35      0.32      0.33        25\n",
      "          2       0.36      0.33      0.35        27\n",
      "\n",
      "avg / total       0.33      0.32      0.32        75\n",
      "\n"
     ]
    }
   ],
   "source": [
    "\n",
    "\n",
    "print(classification_report(X_train[\"species\"],y_pred))\n",
    "\n"
   ]
  },
  {
   "cell_type": "code",
   "execution_count": null,
   "metadata": {},
   "outputs": [],
   "source": []
  }
 ],
 "metadata": {
  "kernelspec": {
   "display_name": "Python 3",
   "language": "python",
   "name": "python3"
  },
  "language_info": {
   "codemirror_mode": {
    "name": "ipython",
    "version": 3
   },
   "file_extension": ".py",
   "mimetype": "text/x-python",
   "name": "python",
   "nbconvert_exporter": "python",
   "pygments_lexer": "ipython3",
   "version": "3.6.5"
  }
 },
 "nbformat": 4,
 "nbformat_minor": 2
}
