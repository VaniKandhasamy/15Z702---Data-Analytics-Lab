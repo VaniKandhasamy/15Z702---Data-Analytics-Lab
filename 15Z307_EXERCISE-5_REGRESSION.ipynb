{
 "cells": [
  {
   "cell_type": "code",
   "execution_count": 41,
   "metadata": {},
   "outputs": [
    {
     "data": {
      "text/plain": [
       "<matplotlib.collections.PathCollection at 0x114214a20>"
      ]
     },
     "execution_count": 41,
     "metadata": {},
     "output_type": "execute_result"
    },
    {
     "data": {
      "image/png": "[encoded data removed]",
      "text/plain": [
       "<matplotlib.figure.Figure at 0x113b32f98>"
      ]
     },
     "metadata": {},
     "output_type": "display_data"
    }
   ],
   "source": [
    "import pandas as pd  \n",
    "import numpy as np  \n",
    "import matplotlib.pyplot as plt  \n",
    "%matplotlib inline\n",
    "\n",
    "x = np.array([1, 4, 5, 7,12,14,8,6]) \n",
    "y = np.array([1, 3, 12, 8.5,20,10,12,8]) \n",
    "n = np.size(x) \n",
    "plt.scatter(x,y)"
   ]
  },
  {
   "cell_type": "code",
   "execution_count": 42,
   "metadata": {},
   "outputs": [
    {
     "name": "stdout",
     "output_type": "stream",
     "text": [
      "mean of x = 7.125\n",
      "mean of y = 9.3125\n",
      " x*y = -3590.0\n",
      " x^2 = -2718.0\n"
     ]
    }
   ],
   "source": [
    "xmean=np.mean(x)\n",
    "ymean=np.mean(y)\n",
    "xy = np.sum(y*x - n*ymean*xmean) \n",
    "xsquare= np.sum(x*x - n*xmean*xmean) \n",
    "print(\"mean of x = \" +str(xmean))\n",
    "print(\"mean of y = \" +str(ymean))\n",
    "print(\" x*y = \" +str(xy))\n",
    "print(\" x^2 = \" +str(xsquare))\n"
   ]
  },
  {
   "cell_type": "code",
   "execution_count": 43,
   "metadata": {},
   "outputs": [
    {
     "name": "stdout",
     "output_type": "stream",
     "text": [
      "y = mx + c \n",
      "m = 1.3208241353936718\n",
      "c = -0.09837196467991127\n",
      "y = 1.3208241353936718 x + -0.09837196467991127\n"
     ]
    }
   ],
   "source": [
    "m = xy /xsquare\n",
    "c= ymean - m*xmean \n",
    "print(\"y = mx + c \")\n",
    "print(\"m = \" +str(m))\n",
    "print(\"c = \" +str(c))\n",
    "\n",
    "print(\"y = \" +str(m)+ \" x + \" + str(c))"
   ]
  }
 ],
 "metadata": {
  "kernelspec": {
   "display_name": "Python 3",
   "language": "python",
   "name": "python3"
  },
  "language_info": {
   "codemirror_mode": {
    "name": "ipython",
    "version": 3
   },
   "file_extension": ".py",
   "mimetype": "text/x-python",
   "name": "python",
   "nbconvert_exporter": "python",
   "pygments_lexer": "ipython3",
   "version": "3.6.3"
  }
 },
 "nbformat": 4,
 "nbformat_minor": 2
}
