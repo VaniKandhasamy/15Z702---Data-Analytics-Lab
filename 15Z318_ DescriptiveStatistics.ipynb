{
 "cells": [
  {
   "cell_type": "code",
   "execution_count": 1,
   "metadata": {},
   "outputs": [],
   "source": [
    "import pandas as pd\n",
    "import numpy as np\n",
    "import matplotlib.pyplot as plt\n",
    "%matplotlib inline"
   ]
  },
  {
   "cell_type": "code",
   "execution_count": 7,
   "metadata": {},
   "outputs": [],
   "source": [
    "dataset = pd.read_csv('D:\\csvSapfile1.csv')"
   ]
  },
  {
   "cell_type": "code",
   "execution_count": 8,
   "metadata": {},
   "outputs": [
    {
     "data": {
      "text/html": [
       "<div>\n",
       "<style scoped>\n",
       "    .dataframe tbody tr th:only-of-type {\n",
       "        vertical-align: middle;\n",
       "    }\n",
       "\n",
       "    .dataframe tbody tr th {\n",
       "        vertical-align: top;\n",
       "    }\n",
       "\n",
       "    .dataframe thead th {\n",
       "        text-align: right;\n",
       "    }\n",
       "</style>\n",
       "<table border=\"1\" class=\"dataframe\">\n",
       "  <thead>\n",
       "    <tr style=\"text-align: right;\">\n",
       "      <th></th>\n",
       "      <th>ge</th>\n",
       "      <th>cst</th>\n",
       "      <th>tnp</th>\n",
       "      <th>twp</th>\n",
       "      <th>iap</th>\n",
       "      <th>esp</th>\n",
       "      <th>arr</th>\n",
       "      <th>ms</th>\n",
       "      <th>ls</th>\n",
       "      <th>as</th>\n",
       "      <th>...</th>\n",
       "      <th>fq</th>\n",
       "      <th>mq</th>\n",
       "      <th>fo</th>\n",
       "      <th>mo</th>\n",
       "      <th>nf</th>\n",
       "      <th>sh</th>\n",
       "      <th>ss</th>\n",
       "      <th>me</th>\n",
       "      <th>tt</th>\n",
       "      <th>atd</th>\n",
       "    </tr>\n",
       "  </thead>\n",
       "  <tbody>\n",
       "    <tr>\n",
       "      <th>0</th>\n",
       "      <td>F</td>\n",
       "      <td>G</td>\n",
       "      <td>Good</td>\n",
       "      <td>Good</td>\n",
       "      <td>Vg</td>\n",
       "      <td>Good</td>\n",
       "      <td>Y</td>\n",
       "      <td>Unmarried</td>\n",
       "      <td>V</td>\n",
       "      <td>Paid</td>\n",
       "      <td>...</td>\n",
       "      <td>Um</td>\n",
       "      <td>10</td>\n",
       "      <td>Farmer</td>\n",
       "      <td>Housewife</td>\n",
       "      <td>Large</td>\n",
       "      <td>Poor</td>\n",
       "      <td>Govt</td>\n",
       "      <td>Asm</td>\n",
       "      <td>Small</td>\n",
       "      <td>Good</td>\n",
       "    </tr>\n",
       "    <tr>\n",
       "      <th>1</th>\n",
       "      <td>M</td>\n",
       "      <td>OBC</td>\n",
       "      <td>Vg</td>\n",
       "      <td>Vg</td>\n",
       "      <td>Vg</td>\n",
       "      <td>Vg</td>\n",
       "      <td>N</td>\n",
       "      <td>Unmarried</td>\n",
       "      <td>V</td>\n",
       "      <td>Paid</td>\n",
       "      <td>...</td>\n",
       "      <td>Um</td>\n",
       "      <td>Il</td>\n",
       "      <td>Service</td>\n",
       "      <td>Service</td>\n",
       "      <td>Small</td>\n",
       "      <td>Poor</td>\n",
       "      <td>Govt</td>\n",
       "      <td>Asm</td>\n",
       "      <td>Average</td>\n",
       "      <td>Average</td>\n",
       "    </tr>\n",
       "    <tr>\n",
       "      <th>2</th>\n",
       "      <td>F</td>\n",
       "      <td>OBC</td>\n",
       "      <td>Good</td>\n",
       "      <td>Good</td>\n",
       "      <td>Vg</td>\n",
       "      <td>Good</td>\n",
       "      <td>N</td>\n",
       "      <td>Unmarried</td>\n",
       "      <td>V</td>\n",
       "      <td>Paid</td>\n",
       "      <td>...</td>\n",
       "      <td>12</td>\n",
       "      <td>10</td>\n",
       "      <td>Service</td>\n",
       "      <td>Housewife</td>\n",
       "      <td>Average</td>\n",
       "      <td>Average</td>\n",
       "      <td>Govt</td>\n",
       "      <td>Asm</td>\n",
       "      <td>Large</td>\n",
       "      <td>Good</td>\n",
       "    </tr>\n",
       "    <tr>\n",
       "      <th>3</th>\n",
       "      <td>M</td>\n",
       "      <td>MOBC</td>\n",
       "      <td>Pass</td>\n",
       "      <td>Good</td>\n",
       "      <td>Vg</td>\n",
       "      <td>Good</td>\n",
       "      <td>N</td>\n",
       "      <td>Unmarried</td>\n",
       "      <td>V</td>\n",
       "      <td>Paid</td>\n",
       "      <td>...</td>\n",
       "      <td>12</td>\n",
       "      <td>Um</td>\n",
       "      <td>Business</td>\n",
       "      <td>Business</td>\n",
       "      <td>Large</td>\n",
       "      <td>Poor</td>\n",
       "      <td>Govt</td>\n",
       "      <td>Asm</td>\n",
       "      <td>Average</td>\n",
       "      <td>Average</td>\n",
       "    </tr>\n",
       "    <tr>\n",
       "      <th>4</th>\n",
       "      <td>M</td>\n",
       "      <td>G</td>\n",
       "      <td>Good</td>\n",
       "      <td>Good</td>\n",
       "      <td>Vg</td>\n",
       "      <td>Vg</td>\n",
       "      <td>N</td>\n",
       "      <td>Unmarried</td>\n",
       "      <td>V</td>\n",
       "      <td>Paid</td>\n",
       "      <td>...</td>\n",
       "      <td>10</td>\n",
       "      <td>12</td>\n",
       "      <td>Service</td>\n",
       "      <td>Housewife</td>\n",
       "      <td>Large</td>\n",
       "      <td>Poor</td>\n",
       "      <td>Private</td>\n",
       "      <td>Asm</td>\n",
       "      <td>Small</td>\n",
       "      <td>Good</td>\n",
       "    </tr>\n",
       "  </tbody>\n",
       "</table>\n",
       "<p>5 rows × 22 columns</p>\n",
       "</div>"
      ],
      "text/plain": [
       "  ge   cst   tnp   twp iap   esp arr         ms ls    as   ...     fq  mq  \\\n",
       "0  F     G  Good  Good  Vg  Good   Y  Unmarried  V  Paid   ...     Um  10   \n",
       "1  M   OBC    Vg    Vg  Vg    Vg   N  Unmarried  V  Paid   ...     Um  Il   \n",
       "2  F   OBC  Good  Good  Vg  Good   N  Unmarried  V  Paid   ...     12  10   \n",
       "3  M  MOBC  Pass  Good  Vg  Good   N  Unmarried  V  Paid   ...     12  Um   \n",
       "4  M     G  Good  Good  Vg    Vg   N  Unmarried  V  Paid   ...     10  12   \n",
       "\n",
       "         fo         mo       nf       sh       ss   me       tt      atd  \n",
       "0    Farmer  Housewife    Large     Poor     Govt  Asm    Small     Good  \n",
       "1   Service    Service    Small     Poor     Govt  Asm  Average  Average  \n",
       "2   Service  Housewife  Average  Average     Govt  Asm    Large     Good  \n",
       "3  Business   Business    Large     Poor     Govt  Asm  Average  Average  \n",
       "4   Service  Housewife    Large     Poor  Private  Asm    Small     Good  \n",
       "\n",
       "[5 rows x 22 columns]"
      ]
     },
     "execution_count": 8,
     "metadata": {},
     "output_type": "execute_result"
    }
   ],
   "source": [
    "dataset.head()"
   ]
  },
  {
   "cell_type": "code",
   "execution_count": 9,
   "metadata": {},
   "outputs": [
    {
     "data": {
      "text/html": [
       "<div>\n",
       "<style scoped>\n",
       "    .dataframe tbody tr th:only-of-type {\n",
       "        vertical-align: middle;\n",
       "    }\n",
       "\n",
       "    .dataframe tbody tr th {\n",
       "        vertical-align: top;\n",
       "    }\n",
       "\n",
       "    .dataframe thead th {\n",
       "        text-align: right;\n",
       "    }\n",
       "</style>\n",
       "<table border=\"1\" class=\"dataframe\">\n",
       "  <thead>\n",
       "    <tr style=\"text-align: right;\">\n",
       "      <th></th>\n",
       "      <th>ge</th>\n",
       "      <th>cst</th>\n",
       "      <th>tnp</th>\n",
       "      <th>twp</th>\n",
       "      <th>iap</th>\n",
       "      <th>esp</th>\n",
       "      <th>arr</th>\n",
       "      <th>ms</th>\n",
       "      <th>ls</th>\n",
       "      <th>as</th>\n",
       "      <th>...</th>\n",
       "      <th>fq</th>\n",
       "      <th>mq</th>\n",
       "      <th>fo</th>\n",
       "      <th>mo</th>\n",
       "      <th>nf</th>\n",
       "      <th>sh</th>\n",
       "      <th>ss</th>\n",
       "      <th>me</th>\n",
       "      <th>tt</th>\n",
       "      <th>atd</th>\n",
       "    </tr>\n",
       "  </thead>\n",
       "  <tbody>\n",
       "    <tr>\n",
       "      <th>126</th>\n",
       "      <td>M</td>\n",
       "      <td>G</td>\n",
       "      <td>Pass</td>\n",
       "      <td>Good</td>\n",
       "      <td>Good</td>\n",
       "      <td>Pass</td>\n",
       "      <td>Y</td>\n",
       "      <td>Unmarried</td>\n",
       "      <td>T</td>\n",
       "      <td>Free</td>\n",
       "      <td>...</td>\n",
       "      <td>Um</td>\n",
       "      <td>Il</td>\n",
       "      <td>Service</td>\n",
       "      <td>Housewife</td>\n",
       "      <td>Small</td>\n",
       "      <td>Average</td>\n",
       "      <td>Govt</td>\n",
       "      <td>Asm</td>\n",
       "      <td>Small</td>\n",
       "      <td>Poor</td>\n",
       "    </tr>\n",
       "    <tr>\n",
       "      <th>127</th>\n",
       "      <td>M</td>\n",
       "      <td>MOBC</td>\n",
       "      <td>Vg</td>\n",
       "      <td>Vg</td>\n",
       "      <td>Good</td>\n",
       "      <td>Good</td>\n",
       "      <td>N</td>\n",
       "      <td>Unmarried</td>\n",
       "      <td>V</td>\n",
       "      <td>Free</td>\n",
       "      <td>...</td>\n",
       "      <td>10</td>\n",
       "      <td>Um</td>\n",
       "      <td>Farmer</td>\n",
       "      <td>Housewife</td>\n",
       "      <td>Average</td>\n",
       "      <td>Poor</td>\n",
       "      <td>Govt</td>\n",
       "      <td>Asm</td>\n",
       "      <td>Small</td>\n",
       "      <td>Average</td>\n",
       "    </tr>\n",
       "    <tr>\n",
       "      <th>128</th>\n",
       "      <td>F</td>\n",
       "      <td>OBC</td>\n",
       "      <td>Good</td>\n",
       "      <td>Good</td>\n",
       "      <td>Vg</td>\n",
       "      <td>Good</td>\n",
       "      <td>N</td>\n",
       "      <td>Unmarried</td>\n",
       "      <td>V</td>\n",
       "      <td>Free</td>\n",
       "      <td>...</td>\n",
       "      <td>Il</td>\n",
       "      <td>Il</td>\n",
       "      <td>Farmer</td>\n",
       "      <td>Housewife</td>\n",
       "      <td>Small</td>\n",
       "      <td>Average</td>\n",
       "      <td>Govt</td>\n",
       "      <td>Asm</td>\n",
       "      <td>Large</td>\n",
       "      <td>Good</td>\n",
       "    </tr>\n",
       "    <tr>\n",
       "      <th>129</th>\n",
       "      <td>M</td>\n",
       "      <td>ST</td>\n",
       "      <td>Pass</td>\n",
       "      <td>Pass</td>\n",
       "      <td>Good</td>\n",
       "      <td>Pass</td>\n",
       "      <td>Y</td>\n",
       "      <td>Unmarried</td>\n",
       "      <td>V</td>\n",
       "      <td>Free</td>\n",
       "      <td>...</td>\n",
       "      <td>Um</td>\n",
       "      <td>Um</td>\n",
       "      <td>Service</td>\n",
       "      <td>Housewife</td>\n",
       "      <td>Average</td>\n",
       "      <td>Average</td>\n",
       "      <td>Govt</td>\n",
       "      <td>Asm</td>\n",
       "      <td>Large</td>\n",
       "      <td>Average</td>\n",
       "    </tr>\n",
       "    <tr>\n",
       "      <th>130</th>\n",
       "      <td>M</td>\n",
       "      <td>G</td>\n",
       "      <td>Pass</td>\n",
       "      <td>Good</td>\n",
       "      <td>Good</td>\n",
       "      <td>Pass</td>\n",
       "      <td>Y</td>\n",
       "      <td>Unmarried</td>\n",
       "      <td>V</td>\n",
       "      <td>Free</td>\n",
       "      <td>...</td>\n",
       "      <td>Um</td>\n",
       "      <td>Um</td>\n",
       "      <td>Business</td>\n",
       "      <td>Housewife</td>\n",
       "      <td>Average</td>\n",
       "      <td>Average</td>\n",
       "      <td>Govt</td>\n",
       "      <td>Asm</td>\n",
       "      <td>Small</td>\n",
       "      <td>Average</td>\n",
       "    </tr>\n",
       "  </tbody>\n",
       "</table>\n",
       "<p>5 rows × 22 columns</p>\n",
       "</div>"
      ],
      "text/plain": [
       "    ge   cst   tnp   twp   iap   esp arr         ms ls    as   ...     fq  mq  \\\n",
       "126  M     G  Pass  Good  Good  Pass   Y  Unmarried  T  Free   ...     Um  Il   \n",
       "127  M  MOBC    Vg    Vg  Good  Good   N  Unmarried  V  Free   ...     10  Um   \n",
       "128  F   OBC  Good  Good    Vg  Good   N  Unmarried  V  Free   ...     Il  Il   \n",
       "129  M    ST  Pass  Pass  Good  Pass   Y  Unmarried  V  Free   ...     Um  Um   \n",
       "130  M     G  Pass  Good  Good  Pass   Y  Unmarried  V  Free   ...     Um  Um   \n",
       "\n",
       "           fo         mo       nf       sh    ss   me     tt      atd  \n",
       "126   Service  Housewife    Small  Average  Govt  Asm  Small     Poor  \n",
       "127    Farmer  Housewife  Average     Poor  Govt  Asm  Small  Average  \n",
       "128    Farmer  Housewife    Small  Average  Govt  Asm  Large     Good  \n",
       "129   Service  Housewife  Average  Average  Govt  Asm  Large  Average  \n",
       "130  Business  Housewife  Average  Average  Govt  Asm  Small  Average  \n",
       "\n",
       "[5 rows x 22 columns]"
      ]
     },
     "execution_count": 9,
     "metadata": {},
     "output_type": "execute_result"
    }
   ],
   "source": [
    "dataset.tail()"
   ]
  },
  {
   "cell_type": "code",
   "execution_count": 10,
   "metadata": {},
   "outputs": [
    {
     "data": {
      "text/plain": [
       "Index(['ge', 'cst', 'tnp', 'twp', 'iap', 'esp', 'arr', 'ms', 'ls', 'as', 'fmi',\n",
       "       'fs', 'fq', 'mq', 'fo', 'mo', 'nf', 'sh', 'ss', 'me', 'tt', 'atd'],\n",
       "      dtype='object')"
      ]
     },
     "execution_count": 10,
     "metadata": {},
     "output_type": "execute_result"
    }
   ],
   "source": [
    "dataset.columns"
   ]
  },
  {
   "cell_type": "code",
   "execution_count": 12,
   "metadata": {},
   "outputs": [
    {
     "data": {
      "text/html": [
       "<div>\n",
       "<style scoped>\n",
       "    .dataframe tbody tr th:only-of-type {\n",
       "        vertical-align: middle;\n",
       "    }\n",
       "\n",
       "    .dataframe tbody tr th {\n",
       "        vertical-align: top;\n",
       "    }\n",
       "\n",
       "    .dataframe thead th {\n",
       "        text-align: right;\n",
       "    }\n",
       "</style>\n",
       "<table border=\"1\" class=\"dataframe\">\n",
       "  <thead>\n",
       "    <tr style=\"text-align: right;\">\n",
       "      <th></th>\n",
       "      <th>ge</th>\n",
       "      <th>cst</th>\n",
       "      <th>tnp</th>\n",
       "      <th>twp</th>\n",
       "      <th>iap</th>\n",
       "      <th>esp</th>\n",
       "      <th>arr</th>\n",
       "      <th>ms</th>\n",
       "      <th>ls</th>\n",
       "      <th>as</th>\n",
       "      <th>...</th>\n",
       "      <th>fq</th>\n",
       "      <th>mq</th>\n",
       "      <th>fo</th>\n",
       "      <th>mo</th>\n",
       "      <th>nf</th>\n",
       "      <th>sh</th>\n",
       "      <th>ss</th>\n",
       "      <th>me</th>\n",
       "      <th>tt</th>\n",
       "      <th>atd</th>\n",
       "    </tr>\n",
       "  </thead>\n",
       "  <tbody>\n",
       "    <tr>\n",
       "      <th>count</th>\n",
       "      <td>131</td>\n",
       "      <td>131</td>\n",
       "      <td>131</td>\n",
       "      <td>131</td>\n",
       "      <td>131</td>\n",
       "      <td>131</td>\n",
       "      <td>131</td>\n",
       "      <td>131</td>\n",
       "      <td>131</td>\n",
       "      <td>131</td>\n",
       "      <td>...</td>\n",
       "      <td>131</td>\n",
       "      <td>131</td>\n",
       "      <td>131</td>\n",
       "      <td>131</td>\n",
       "      <td>131</td>\n",
       "      <td>131</td>\n",
       "      <td>131</td>\n",
       "      <td>131</td>\n",
       "      <td>131</td>\n",
       "      <td>131</td>\n",
       "    </tr>\n",
       "    <tr>\n",
       "      <th>unique</th>\n",
       "      <td>2</td>\n",
       "      <td>5</td>\n",
       "      <td>4</td>\n",
       "      <td>4</td>\n",
       "      <td>4</td>\n",
       "      <td>4</td>\n",
       "      <td>2</td>\n",
       "      <td>1</td>\n",
       "      <td>2</td>\n",
       "      <td>2</td>\n",
       "      <td>...</td>\n",
       "      <td>6</td>\n",
       "      <td>6</td>\n",
       "      <td>5</td>\n",
       "      <td>5</td>\n",
       "      <td>3</td>\n",
       "      <td>3</td>\n",
       "      <td>2</td>\n",
       "      <td>4</td>\n",
       "      <td>3</td>\n",
       "      <td>3</td>\n",
       "    </tr>\n",
       "    <tr>\n",
       "      <th>top</th>\n",
       "      <td>M</td>\n",
       "      <td>OBC</td>\n",
       "      <td>Good</td>\n",
       "      <td>Good</td>\n",
       "      <td>Vg</td>\n",
       "      <td>Good</td>\n",
       "      <td>N</td>\n",
       "      <td>Unmarried</td>\n",
       "      <td>V</td>\n",
       "      <td>Paid</td>\n",
       "      <td>...</td>\n",
       "      <td>Um</td>\n",
       "      <td>Um</td>\n",
       "      <td>Service</td>\n",
       "      <td>Housewife</td>\n",
       "      <td>Large</td>\n",
       "      <td>Average</td>\n",
       "      <td>Govt</td>\n",
       "      <td>Eng</td>\n",
       "      <td>Small</td>\n",
       "      <td>Good</td>\n",
       "    </tr>\n",
       "    <tr>\n",
       "      <th>freq</th>\n",
       "      <td>72</td>\n",
       "      <td>57</td>\n",
       "      <td>59</td>\n",
       "      <td>65</td>\n",
       "      <td>63</td>\n",
       "      <td>54</td>\n",
       "      <td>78</td>\n",
       "      <td>131</td>\n",
       "      <td>92</td>\n",
       "      <td>76</td>\n",
       "      <td>...</td>\n",
       "      <td>40</td>\n",
       "      <td>52</td>\n",
       "      <td>38</td>\n",
       "      <td>115</td>\n",
       "      <td>58</td>\n",
       "      <td>59</td>\n",
       "      <td>91</td>\n",
       "      <td>62</td>\n",
       "      <td>78</td>\n",
       "      <td>56</td>\n",
       "    </tr>\n",
       "  </tbody>\n",
       "</table>\n",
       "<p>4 rows × 22 columns</p>\n",
       "</div>"
      ],
      "text/plain": [
       "         ge  cst   tnp   twp  iap   esp  arr         ms   ls    as  ...    fq  \\\n",
       "count   131  131   131   131  131   131  131        131  131   131  ...   131   \n",
       "unique    2    5     4     4    4     4    2          1    2     2  ...     6   \n",
       "top       M  OBC  Good  Good   Vg  Good    N  Unmarried    V  Paid  ...    Um   \n",
       "freq     72   57    59    65   63    54   78        131   92    76  ...    40   \n",
       "\n",
       "         mq       fo         mo     nf       sh    ss   me     tt   atd  \n",
       "count   131      131        131    131      131   131  131    131   131  \n",
       "unique    6        5          5      3        3     2    4      3     3  \n",
       "top      Um  Service  Housewife  Large  Average  Govt  Eng  Small  Good  \n",
       "freq     52       38        115     58       59    91   62     78    56  \n",
       "\n",
       "[4 rows x 22 columns]"
      ]
     },
     "execution_count": 12,
     "metadata": {},
     "output_type": "execute_result"
    }
   ],
   "source": [
    "dataset.describe()"
   ]
  },
  {
   "cell_type": "code",
   "execution_count": 13,
   "metadata": {},
   "outputs": [
    {
     "data": {
      "text/html": [
       "<div>\n",
       "<style scoped>\n",
       "    .dataframe tbody tr th:only-of-type {\n",
       "        vertical-align: middle;\n",
       "    }\n",
       "\n",
       "    .dataframe tbody tr th {\n",
       "        vertical-align: top;\n",
       "    }\n",
       "\n",
       "    .dataframe thead th {\n",
       "        text-align: right;\n",
       "    }\n",
       "</style>\n",
       "<table border=\"1\" class=\"dataframe\">\n",
       "  <thead>\n",
       "    <tr style=\"text-align: right;\">\n",
       "      <th></th>\n",
       "      <th>ge</th>\n",
       "      <th>tnp</th>\n",
       "      <th>twp</th>\n",
       "      <th>iap</th>\n",
       "      <th>esp</th>\n",
       "      <th>arr</th>\n",
       "      <th>ms</th>\n",
       "      <th>ls</th>\n",
       "      <th>as</th>\n",
       "      <th>fmi</th>\n",
       "      <th>fs</th>\n",
       "      <th>fq</th>\n",
       "      <th>mq</th>\n",
       "      <th>fo</th>\n",
       "      <th>mo</th>\n",
       "      <th>nf</th>\n",
       "      <th>sh</th>\n",
       "      <th>ss</th>\n",
       "      <th>tt</th>\n",
       "      <th>atd</th>\n",
       "    </tr>\n",
       "  </thead>\n",
       "  <tbody>\n",
       "    <tr>\n",
       "      <th>count</th>\n",
       "      <td>131</td>\n",
       "      <td>131</td>\n",
       "      <td>131</td>\n",
       "      <td>131</td>\n",
       "      <td>131</td>\n",
       "      <td>131</td>\n",
       "      <td>131</td>\n",
       "      <td>131</td>\n",
       "      <td>131</td>\n",
       "      <td>131</td>\n",
       "      <td>131</td>\n",
       "      <td>131</td>\n",
       "      <td>131</td>\n",
       "      <td>131</td>\n",
       "      <td>131</td>\n",
       "      <td>131</td>\n",
       "      <td>131</td>\n",
       "      <td>131</td>\n",
       "      <td>131</td>\n",
       "      <td>131</td>\n",
       "    </tr>\n",
       "    <tr>\n",
       "      <th>unique</th>\n",
       "      <td>2</td>\n",
       "      <td>4</td>\n",
       "      <td>4</td>\n",
       "      <td>4</td>\n",
       "      <td>4</td>\n",
       "      <td>2</td>\n",
       "      <td>1</td>\n",
       "      <td>2</td>\n",
       "      <td>2</td>\n",
       "      <td>5</td>\n",
       "      <td>3</td>\n",
       "      <td>6</td>\n",
       "      <td>6</td>\n",
       "      <td>5</td>\n",
       "      <td>5</td>\n",
       "      <td>3</td>\n",
       "      <td>3</td>\n",
       "      <td>2</td>\n",
       "      <td>3</td>\n",
       "      <td>3</td>\n",
       "    </tr>\n",
       "    <tr>\n",
       "      <th>top</th>\n",
       "      <td>M</td>\n",
       "      <td>Good</td>\n",
       "      <td>Good</td>\n",
       "      <td>Vg</td>\n",
       "      <td>Good</td>\n",
       "      <td>N</td>\n",
       "      <td>Unmarried</td>\n",
       "      <td>V</td>\n",
       "      <td>Paid</td>\n",
       "      <td>Medium</td>\n",
       "      <td>Small</td>\n",
       "      <td>Um</td>\n",
       "      <td>Um</td>\n",
       "      <td>Service</td>\n",
       "      <td>Housewife</td>\n",
       "      <td>Large</td>\n",
       "      <td>Average</td>\n",
       "      <td>Govt</td>\n",
       "      <td>Small</td>\n",
       "      <td>Good</td>\n",
       "    </tr>\n",
       "    <tr>\n",
       "      <th>freq</th>\n",
       "      <td>72</td>\n",
       "      <td>59</td>\n",
       "      <td>65</td>\n",
       "      <td>63</td>\n",
       "      <td>54</td>\n",
       "      <td>78</td>\n",
       "      <td>131</td>\n",
       "      <td>92</td>\n",
       "      <td>76</td>\n",
       "      <td>63</td>\n",
       "      <td>89</td>\n",
       "      <td>40</td>\n",
       "      <td>52</td>\n",
       "      <td>38</td>\n",
       "      <td>115</td>\n",
       "      <td>58</td>\n",
       "      <td>59</td>\n",
       "      <td>91</td>\n",
       "      <td>78</td>\n",
       "      <td>56</td>\n",
       "    </tr>\n",
       "  </tbody>\n",
       "</table>\n",
       "</div>"
      ],
      "text/plain": [
       "         ge   tnp   twp  iap   esp  arr         ms   ls    as     fmi     fs  \\\n",
       "count   131   131   131  131   131  131        131  131   131     131    131   \n",
       "unique    2     4     4    4     4    2          1    2     2       5      3   \n",
       "top       M  Good  Good   Vg  Good    N  Unmarried    V  Paid  Medium  Small   \n",
       "freq     72    59    65   63    54   78        131   92    76      63     89   \n",
       "\n",
       "         fq   mq       fo         mo     nf       sh    ss     tt   atd  \n",
       "count   131  131      131        131    131      131   131    131   131  \n",
       "unique    6    6        5          5      3        3     2      3     3  \n",
       "top      Um   Um  Service  Housewife  Large  Average  Govt  Small  Good  \n",
       "freq     40   52       38        115     58       59    91     78    56  "
      ]
     },
     "execution_count": 13,
     "metadata": {},
     "output_type": "execute_result"
    }
   ],
   "source": [
    "dataset = dataset.drop(['cst','me'], 1, errors='ignore')\n",
    "dataset.describe()"
   ]
  },
  {
   "cell_type": "code",
   "execution_count": 15,
   "metadata": {},
   "outputs": [
    {
     "data": {
      "text/plain": [
       "count     131\n",
       "unique      2\n",
       "top         M\n",
       "freq       72\n",
       "Name: ge, dtype: object"
      ]
     },
     "execution_count": 15,
     "metadata": {},
     "output_type": "execute_result"
    }
   ],
   "source": [
    "dataset['ge'].describe()"
   ]
  },
  {
   "cell_type": "code",
   "execution_count": 16,
   "metadata": {},
   "outputs": [
    {
     "data": {
      "text/plain": [
       "count      131\n",
       "unique       4\n",
       "top       Good\n",
       "freq        59\n",
       "Name: tnp, dtype: object"
      ]
     },
     "execution_count": 16,
     "metadata": {},
     "output_type": "execute_result"
    }
   ],
   "source": [
    "dataset['tnp'].describe()"
   ]
  },
  {
   "cell_type": "code",
   "execution_count": 17,
   "metadata": {},
   "outputs": [
    {
     "data": {
      "text/plain": [
       "count      131\n",
       "unique       4\n",
       "top       Good\n",
       "freq        65\n",
       "Name: twp, dtype: object"
      ]
     },
     "execution_count": 17,
     "metadata": {},
     "output_type": "execute_result"
    }
   ],
   "source": [
    "dataset['twp'].describe()"
   ]
  },
  {
   "cell_type": "code",
   "execution_count": 21,
   "metadata": {},
   "outputs": [
    {
     "data": {
      "text/plain": [
       "ge     0\n",
       "tnp    0\n",
       "twp    0\n",
       "iap    0\n",
       "esp    0\n",
       "arr    0\n",
       "ms     0\n",
       "ls     0\n",
       "as     0\n",
       "fmi    0\n",
       "fs     0\n",
       "fq     0\n",
       "mq     0\n",
       "fo     0\n",
       "mo     0\n",
       "nf     0\n",
       "sh     0\n",
       "ss     0\n",
       "tt     0\n",
       "atd    0\n",
       "dtype: int64"
      ]
     },
     "execution_count": 21,
     "metadata": {},
     "output_type": "execute_result"
    }
   ],
   "source": [
    "dataset.isnull().sum(axis=0)"
   ]
  },
  {
   "cell_type": "code",
   "execution_count": 23,
   "metadata": {},
   "outputs": [
    {
     "data": {
      "text/plain": [
       "M    72\n",
       "F    59\n",
       "Name: ge, dtype: int64"
      ]
     },
     "execution_count": 23,
     "metadata": {},
     "output_type": "execute_result"
    }
   ],
   "source": [
    "dataset['ge'].value_counts()"
   ]
  },
  {
   "cell_type": "code",
   "execution_count": 26,
   "metadata": {},
   "outputs": [
    {
     "data": {
      "text/plain": [
       "N    78\n",
       "Y    53\n",
       "Name: arr, dtype: int64"
      ]
     },
     "execution_count": 26,
     "metadata": {},
     "output_type": "execute_result"
    }
   ],
   "source": [
    "dataset['arr'].value_counts()"
   ]
  },
  {
   "cell_type": "code",
   "execution_count": 27,
   "metadata": {},
   "outputs": [
    {
     "data": {
      "text/plain": [
       "Medium    63\n",
       "Am        27\n",
       "Low       20\n",
       "High      15\n",
       "Vh         6\n",
       "Name: fmi, dtype: int64"
      ]
     },
     "execution_count": 27,
     "metadata": {},
     "output_type": "execute_result"
    }
   ],
   "source": [
    "dataset['fmi'].value_counts()"
   ]
  },
  {
   "cell_type": "code",
   "execution_count": 45,
   "metadata": {},
   "outputs": [
    {
     "data": {
      "text/plain": [
       "Text(0.5,1,'Breakdown of ge')"
      ]
     },
     "execution_count": 45,
     "metadata": {},
     "output_type": "execute_result"
    },
    {
     "data": {
      "image/png": "[encoded data removed]",
      "text/plain": [
       "<Figure size 432x288 with 1 Axes>"
      ]
     },
     "metadata": {},
     "output_type": "display_data"
    }
   ],
   "source": [
    "dataset['ge'].value_counts().plot(kind='bar',color='black')\n",
    "plt.title('Breakdown of ge')"
   ]
  },
  {
   "cell_type": "code",
   "execution_count": 35,
   "metadata": {},
   "outputs": [
    {
     "data": {
      "text/plain": [
       "Text(0.5,1,'Breakdown of arr')"
      ]
     },
     "execution_count": 35,
     "metadata": {},
     "output_type": "execute_result"
    },
    {
     "data": {
      "image/png": "[encoded data removed]",
      "text/plain": [
       "<Figure size 432x288 with 1 Axes>"
      ]
     },
     "metadata": {},
     "output_type": "display_data"
    }
   ],
   "source": [
    "dataset['arr'].value_counts().plot(kind='bar',color='yellow')\n",
    "plt.title('Breakdown of arr')"
   ]
  },
  {
   "cell_type": "code",
   "execution_count": 38,
   "metadata": {},
   "outputs": [
    {
     "data": {
      "text/plain": [
       "Text(0.5,1,'Breakdown of Monthly Income')"
      ]
     },
     "execution_count": 38,
     "metadata": {},
     "output_type": "execute_result"
    },
    {
     "data": {
      "image/png": "[encoded data removed]",
      "text/plain": [
       "<Figure size 432x288 with 1 Axes>"
      ]
     },
     "metadata": {},
     "output_type": "display_data"
    }
   ],
   "source": [
    "dataset['fmi'].value_counts().plot(kind='pie')\n",
    "plt.title('Breakdown of Monthly Income')"
   ]
  },
  {
   "cell_type": "code",
   "execution_count": 40,
   "metadata": {},
   "outputs": [
    {
     "data": {
      "text/html": [
       "<div>\n",
       "<style scoped>\n",
       "    .dataframe tbody tr th:only-of-type {\n",
       "        vertical-align: middle;\n",
       "    }\n",
       "\n",
       "    .dataframe tbody tr th {\n",
       "        vertical-align: top;\n",
       "    }\n",
       "\n",
       "    .dataframe thead th {\n",
       "        text-align: right;\n",
       "    }\n",
       "</style>\n",
       "<table border=\"1\" class=\"dataframe\">\n",
       "  <thead>\n",
       "    <tr style=\"text-align: right;\">\n",
       "      <th></th>\n",
       "      <th>ge</th>\n",
       "      <th>tnp</th>\n",
       "      <th>twp</th>\n",
       "      <th>iap</th>\n",
       "      <th>esp</th>\n",
       "      <th>arr</th>\n",
       "      <th>ms</th>\n",
       "      <th>ls</th>\n",
       "      <th>as</th>\n",
       "      <th>fmi</th>\n",
       "      <th>fs</th>\n",
       "      <th>fq</th>\n",
       "      <th>mq</th>\n",
       "      <th>fo</th>\n",
       "      <th>mo</th>\n",
       "      <th>nf</th>\n",
       "      <th>sh</th>\n",
       "      <th>ss</th>\n",
       "      <th>tt</th>\n",
       "      <th>atd</th>\n",
       "    </tr>\n",
       "  </thead>\n",
       "  <tbody>\n",
       "    <tr>\n",
       "      <th>0</th>\n",
       "      <td>F</td>\n",
       "      <td>Good</td>\n",
       "      <td>Good</td>\n",
       "      <td>Vg</td>\n",
       "      <td>Good</td>\n",
       "      <td>Y</td>\n",
       "      <td>Unmarried</td>\n",
       "      <td>V</td>\n",
       "      <td>Paid</td>\n",
       "      <td>Medium</td>\n",
       "      <td>Average</td>\n",
       "      <td>Um</td>\n",
       "      <td>10</td>\n",
       "      <td>Farmer</td>\n",
       "      <td>Housewife</td>\n",
       "      <td>Large</td>\n",
       "      <td>Poor</td>\n",
       "      <td>Govt</td>\n",
       "      <td>Small</td>\n",
       "      <td>Good</td>\n",
       "    </tr>\n",
       "    <tr>\n",
       "      <th>1</th>\n",
       "      <td>M</td>\n",
       "      <td>Vg</td>\n",
       "      <td>Vg</td>\n",
       "      <td>Vg</td>\n",
       "      <td>Vg</td>\n",
       "      <td>N</td>\n",
       "      <td>Unmarried</td>\n",
       "      <td>V</td>\n",
       "      <td>Paid</td>\n",
       "      <td>Low</td>\n",
       "      <td>Average</td>\n",
       "      <td>Um</td>\n",
       "      <td>Il</td>\n",
       "      <td>Service</td>\n",
       "      <td>Service</td>\n",
       "      <td>Small</td>\n",
       "      <td>Poor</td>\n",
       "      <td>Govt</td>\n",
       "      <td>Average</td>\n",
       "      <td>Average</td>\n",
       "    </tr>\n",
       "    <tr>\n",
       "      <th>2</th>\n",
       "      <td>F</td>\n",
       "      <td>Good</td>\n",
       "      <td>Good</td>\n",
       "      <td>Vg</td>\n",
       "      <td>Good</td>\n",
       "      <td>N</td>\n",
       "      <td>Unmarried</td>\n",
       "      <td>V</td>\n",
       "      <td>Paid</td>\n",
       "      <td>Am</td>\n",
       "      <td>Average</td>\n",
       "      <td>12</td>\n",
       "      <td>10</td>\n",
       "      <td>Service</td>\n",
       "      <td>Housewife</td>\n",
       "      <td>Average</td>\n",
       "      <td>Average</td>\n",
       "      <td>Govt</td>\n",
       "      <td>Large</td>\n",
       "      <td>Good</td>\n",
       "    </tr>\n",
       "    <tr>\n",
       "      <th>3</th>\n",
       "      <td>M</td>\n",
       "      <td>Pass</td>\n",
       "      <td>Good</td>\n",
       "      <td>Vg</td>\n",
       "      <td>Good</td>\n",
       "      <td>N</td>\n",
       "      <td>Unmarried</td>\n",
       "      <td>V</td>\n",
       "      <td>Paid</td>\n",
       "      <td>Medium</td>\n",
       "      <td>Small</td>\n",
       "      <td>12</td>\n",
       "      <td>Um</td>\n",
       "      <td>Business</td>\n",
       "      <td>Business</td>\n",
       "      <td>Large</td>\n",
       "      <td>Poor</td>\n",
       "      <td>Govt</td>\n",
       "      <td>Average</td>\n",
       "      <td>Average</td>\n",
       "    </tr>\n",
       "    <tr>\n",
       "      <th>4</th>\n",
       "      <td>M</td>\n",
       "      <td>Good</td>\n",
       "      <td>Good</td>\n",
       "      <td>Vg</td>\n",
       "      <td>Vg</td>\n",
       "      <td>N</td>\n",
       "      <td>Unmarried</td>\n",
       "      <td>V</td>\n",
       "      <td>Paid</td>\n",
       "      <td>Am</td>\n",
       "      <td>Average</td>\n",
       "      <td>10</td>\n",
       "      <td>12</td>\n",
       "      <td>Service</td>\n",
       "      <td>Housewife</td>\n",
       "      <td>Large</td>\n",
       "      <td>Poor</td>\n",
       "      <td>Private</td>\n",
       "      <td>Small</td>\n",
       "      <td>Good</td>\n",
       "    </tr>\n",
       "  </tbody>\n",
       "</table>\n",
       "</div>"
      ],
      "text/plain": [
       "  ge   tnp   twp iap   esp arr         ms ls    as     fmi       fs  fq  mq  \\\n",
       "0  F  Good  Good  Vg  Good   Y  Unmarried  V  Paid  Medium  Average  Um  10   \n",
       "1  M    Vg    Vg  Vg    Vg   N  Unmarried  V  Paid     Low  Average  Um  Il   \n",
       "2  F  Good  Good  Vg  Good   N  Unmarried  V  Paid      Am  Average  12  10   \n",
       "3  M  Pass  Good  Vg  Good   N  Unmarried  V  Paid  Medium    Small  12  Um   \n",
       "4  M  Good  Good  Vg    Vg   N  Unmarried  V  Paid      Am  Average  10  12   \n",
       "\n",
       "         fo         mo       nf       sh       ss       tt      atd  \n",
       "0    Farmer  Housewife    Large     Poor     Govt    Small     Good  \n",
       "1   Service    Service    Small     Poor     Govt  Average  Average  \n",
       "2   Service  Housewife  Average  Average     Govt    Large     Good  \n",
       "3  Business   Business    Large     Poor     Govt  Average  Average  \n",
       "4   Service  Housewife    Large     Poor  Private    Small     Good  "
      ]
     },
     "execution_count": 40,
     "metadata": {},
     "output_type": "execute_result"
    }
   ],
   "source": [
    "dataset.select_dtypes(include=['object']).head()"
   ]
  },
  {
   "cell_type": "code",
   "execution_count": 44,
   "metadata": {},
   "outputs": [
    {
     "data": {
      "text/plain": [
       "Text(0,0.5,'Frequency of Income')"
      ]
     },
     "execution_count": 44,
     "metadata": {},
     "output_type": "execute_result"
    },
    {
     "data": {
      "image/png": "[encoded data removed]",
      "text/plain": [
       "<Figure size 432x288 with 1 Axes>"
      ]
     },
     "metadata": {},
     "output_type": "display_data"
    }
   ],
   "source": [
    "pd.crosstab(dataset['ge'],dataset['fmi']).plot(kind='bar')\n",
    "plt.title('Gender and Monthly Income')\n",
    "plt.xlabel('Gender')\n",
    "plt.ylabel('Frequency of Income')"
   ]
  },
  {
   "cell_type": "code",
   "execution_count": 46,
   "metadata": {},
   "outputs": [
    {
     "data": {
      "text/plain": [
       "Text(0,0.5,'Marital Status')"
      ]
     },
     "execution_count": 46,
     "metadata": {},
     "output_type": "execute_result"
    },
    {
     "data": {
      "image/png": "[encoded data removed]",
      "text/plain": [
       "<Figure size 432x288 with 1 Axes>"
      ]
     },
     "metadata": {},
     "output_type": "display_data"
    }
   ],
   "source": [
    "pd.crosstab(dataset['ge'],dataset['ms']).plot(kind='bar')\n",
    "plt.title('Gender and Marital Status')\n",
    "plt.xlabel('Gender')\n",
    "plt.ylabel('Marital Status')"
   ]
  },
  {
   "cell_type": "code",
   "execution_count": 47,
   "metadata": {},
   "outputs": [
    {
     "data": {
      "text/plain": [
       "Text(0,0.5,'Occupation')"
      ]
     },
     "execution_count": 47,
     "metadata": {},
     "output_type": "execute_result"
    },
    {
     "data": {
      "image/png": "[encoded data removed]",
      "text/plain": [
       "<Figure size 432x288 with 1 Axes>"
      ]
     },
     "metadata": {},
     "output_type": "display_data"
    }
   ],
   "source": [
    "pd.crosstab(dataset['ge'],dataset['fo']).plot(kind='bar')\n",
    "plt.title('Gender and Occupation')\n",
    "plt.xlabel('Gender')\n",
    "plt.ylabel('Occupation')"
   ]
  },
  {
   "cell_type": "code",
   "execution_count": null,
   "metadata": {},
   "outputs": [],
   "source": [
    "After analysing the dataset using visualization of data, the observations that I have made are:\n",
    "    The salary of most of the people in the dataset is Medium.\n",
    "    The salary of least of the people in the dataset is Very High.\n",
    "    There are more male high salary earners than female.\n",
    "    There are more male low salary earners than female.\n",
    "    Neither male nor female is Married.\n",
    "    Most of the people are either in Business or Service.\n",
    "    There are more males in Farming than females."
   ]
  },
  {
   "cell_type": "code",
   "execution_count": 53,
   "metadata": {},
   "outputs": [
    {
     "data": {
      "text/plain": [
       "ge     object\n",
       "tnp    object\n",
       "twp    object\n",
       "iap    object\n",
       "esp    object\n",
       "arr    object\n",
       "ms     object\n",
       "ls     object\n",
       "as     object\n",
       "fmi    object\n",
       "fs     object\n",
       "fq     object\n",
       "mq     object\n",
       "fo     object\n",
       "mo     object\n",
       "nf     object\n",
       "sh     object\n",
       "ss     object\n",
       "tt     object\n",
       "atd    object\n",
       "dtype: object"
      ]
     },
     "execution_count": 53,
     "metadata": {},
     "output_type": "execute_result"
    }
   ],
   "source": [
    "dataset.dtypes"
   ]
  },
  {
   "cell_type": "code",
   "execution_count": 55,
   "metadata": {},
   "outputs": [
    {
     "data": {
      "text/plain": [
       "1    54\n",
       "3    42\n",
       "2    27\n",
       "0     8\n",
       "Name: esp, dtype: int64"
      ]
     },
     "execution_count": 55,
     "metadata": {},
     "output_type": "execute_result"
    }
   ],
   "source": [
    "from sklearn import preprocessing\n",
    "label_encoder = preprocessing.LabelEncoder()\n",
    "colnames_to_encode = ['ge','tnp', 'twp', 'iap', 'esp', 'arr', \n",
    "                      'ms', 'ls','as', 'fmi', 'fs', 'fq', 'mq', 'fo', 'mo', \n",
    "                     'nf', 'sh', 'ss', 'tt', 'atd']\n",
    "for c in colnames_to_encode:\n",
    "    dataset[c] = label_encoder.fit_transform(dataset[c])\n",
    "dataset['esp'].value_counts()"
   ]
  },
  {
   "cell_type": "code",
   "execution_count": null,
   "metadata": {},
   "outputs": [],
   "source": [
    "The end semester percentage ('esp') has been predicted."
   ]
  }
 ],
 "metadata": {
  "kernelspec": {
   "display_name": "Python 3",
   "language": "python",
   "name": "python3"
  },
  "language_info": {
   "codemirror_mode": {
    "name": "ipython",
    "version": 3
   },
   "file_extension": ".py",
   "mimetype": "text/x-python",
   "name": "python",
   "nbconvert_exporter": "python",
   "pygments_lexer": "ipython3",
   "version": "3.6.5"
  }
 },
 "nbformat": 4,
 "nbformat_minor": 2
}
