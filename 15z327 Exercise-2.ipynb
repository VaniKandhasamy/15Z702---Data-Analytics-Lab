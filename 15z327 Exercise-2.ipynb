{
 "cells": [
  {
   "cell_type": "code",
   "execution_count": 9,
   "metadata": {},
   "outputs": [
    {
     "name": "stdout",
     "output_type": "stream",
     "text": [
      "<Response [200]>\n"
     ]
    }
   ],
   "source": [
    "import requests\n",
    "req  = requests.get(\"https://psgim.ac.in/2017/01/full-time-faculty/\")\n",
    "print(req)"
   ]
  },
  {
   "cell_type": "code",
   "execution_count": 10,
   "metadata": {},
   "outputs": [
    {
     "name": "stdout",
     "output_type": "stream",
     "text": [
      "Number of faculties 32\n",
      "1 Dr Archana Krishnan\n",
      "2 DR ARUL RAJAN K\n",
      "3 DR Balasudarsun N L\n",
      "4 DR DEEPA R\n",
      "5 Mr Harish V \n",
      "6 DR JAGAJEEVAN R\n",
      "7 DR JOSHUA SELVAKUMAR J\n",
      "8 Mr Karthikeyan M S\n",
      "9 Mr KARTHIKEYAN L \n",
      "10 DR KAVITHA D\n",
      "11 Dr KRISHNAVENI R\n",
      "12 DR KRISHNAVENI MUTHIAH R\n",
      "13 Dr MANJU P GEORGE\n",
      "14 MR Manikandan S S\n",
      "15 DR MANSURALI A\n",
      "16 Ms Muthu Janaki\n",
      "17 Ms Rajeswari R\n",
      "18 DR RAMAN H\n",
      "19 Dr RAMKUMAR N\n",
      "20 DR SATHISH M\n",
      "21 DR SATHYANARAYANAN R S\n",
      "22 DR SEKKIZHAR J\n",
      "23  Dr Srigayathri Devi K\n",
      "24 Dr SRIVIDYA V\n",
      "25 DR SUJATHA R \n",
      "26 DR SUDHARANI RAVINDRAN D\n",
      "27 DR SWAMYNATHAN R\n",
      "28 DR THILAGAM V\n",
      "29 DR UMA MAHESWARI B\n",
      "30 DR UMESH CHANDRASEKHAR\n",
      "31 Dr VIJAYA T G\n",
      "32 DR VIVEK N\n"
     ]
    }
   ],
   "source": [
    "from bs4 import BeautifulSoup\n",
    "s = BeautifulSoup(req.content, 'html.parser')\n",
    "staff = s.findAll('div',{\"class\":\"vc_column-inner\"})\n",
    "fName = []\n",
    "for i in range(len(faculty)):\n",
    "    if faculty[i].find('h4'):\n",
    "        fName.append(staff[i].find('h4').text)\n",
    "\n",
    "print('Number of faculties',len(fName))\n",
    "for i in range(len(fName)):\n",
    "    print(str(i+1)+\" \"+fName[i])"
   ]
  },
  {
   "cell_type": "code",
   "execution_count": 11,
   "metadata": {},
   "outputs": [],
   "source": [
    "fName.remove('Ms Muthu Janaki')"
   ]
  },
  {
   "cell_type": "code",
   "execution_count": 22,
   "metadata": {},
   "outputs": [
    {
     "name": "stdout",
     "output_type": "stream",
     "text": [
      "Faculty with Ph.D: \n",
      "1 Dr Archana Krishnan\n",
      "2 DR ARUL RAJAN K\n",
      "3 DR Balasudarsun N L\n",
      "4 DR DEEPA R\n",
      "5 Mr Harish V \n",
      "6 DR JAGAJEEVAN R\n",
      "7 DR JOSHUA SELVAKUMAR J\n",
      "8 DR KAVITHA D\n",
      "9 Dr KRISHNAVENI R\n",
      "10 DR KRISHNAVENI MUTHIAH R\n",
      "11 Dr MANJU P GEORGE\n",
      "12 DR MANSURALI A\n",
      "13 DR RAMAN H\n",
      "14 Dr RAMKUMAR N\n",
      "15 DR SATHISH M\n",
      "16 DR SATHYANARAYANAN R S\n",
      "17 DR SEKKIZHAR J\n",
      "18  Dr Srigayathri Devi K\n",
      "19 Dr SRIVIDYA V\n",
      "20 DR SUJATHA R \n",
      "21 DR SUDHARANI RAVINDRAN D\n",
      "22 DR SWAMYNATHAN R\n",
      "23 DR THILAGAM V\n",
      "24 DR UMA MAHESWARI B\n",
      "25 DR UMESH CHANDRASEKHAR\n",
      "26 Dr VIJAYA T G\n",
      "27 DR VIVEK N\n"
     ]
    }
   ],
   "source": [
    "\n",
    "staff = s.findAll('div',{\"class\":\"wpb_text_column\"})\n",
    "index = -1\n",
    "c = 0\n",
    "\n",
    "print(\"Faculty with Ph.D: \")\n",
    "for i in range(len(faculty)):\n",
    "    if staff[i].find('p'):\n",
    "        \n",
    "        if staff[i].find('p').text.find('Qualification')!=-1:\n",
    "            index=index+1\n",
    "            \n",
    "            if staff[i].find('p').text.find('Ph.D')!=-1 or staff[i].find('p').text.find('Ph.D.,')!=-1 or staff[i].find('p').text.find('PhD')!=-1:\n",
    "            \n",
    "                c=c+1\n",
    "                print(c,fName[index])"
   ]
  },
  {
   "cell_type": "code",
   "execution_count": null,
   "metadata": {},
   "outputs": [],
   "source": []
  }
 ],
 "metadata": {
  "kernelspec": {
   "display_name": "Python 3",
   "language": "python",
   "name": "python3"
  },
  "language_info": {
   "codemirror_mode": {
    "name": "ipython",
    "version": 3
   },
   "file_extension": ".py",
   "mimetype": "text/x-python",
   "name": "python",
   "nbconvert_exporter": "python",
   "pygments_lexer": "ipython3",
   "version": "3.6.4"
  }
 },
 "nbformat": 4,
 "nbformat_minor": 2
}
