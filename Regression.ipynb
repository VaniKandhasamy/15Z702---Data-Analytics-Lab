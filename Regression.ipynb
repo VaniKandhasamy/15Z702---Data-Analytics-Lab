{
 "cells": [
  {
   "cell_type": "code",
   "execution_count": 1,
   "metadata": {},
   "outputs": [
    {
     "name": "stdout",
     "output_type": "stream",
     "text": [
      "X:1\n",
      "Y:1\n",
      "X:3\n",
      "Y:2\n",
      "X:4\n",
      "Y:4\n",
      "X:5\n",
      "Y:6\n",
      "X:7\n",
      "Y:6\n"
     ]
    }
   ],
   "source": [
    "n=5\n",
    "points=[]\n",
    "for i in range(n):\n",
    "    x=int(input(\"X:\"))\n",
    "    y=int(input(\"Y:\"))\n",
    "    points.append([x,y])\n"
   ]
  },
  {
   "cell_type": "code",
   "execution_count": 2,
   "metadata": {},
   "outputs": [
    {
     "name": "stdout",
     "output_type": "stream",
     "text": [
      "[[1, 1], [3, 2], [4, 4], [5, 6], [7, 6]]\n"
     ]
    }
   ],
   "source": [
    "print(points)"
   ]
  },
  {
   "cell_type": "code",
   "execution_count": 4,
   "metadata": {},
   "outputs": [
    {
     "data": {
      "text/plain": [
       "[<matplotlib.lines.Line2D at 0x1c3516ff748>]"
      ]
     },
     "execution_count": 4,
     "metadata": {},
     "output_type": "execute_result"
    },
    {
     "data": {
      "image/png": "[encoded data removed]",
      "text/plain": [
       "<Figure size 432x288 with 1 Axes>"
      ]
     },
     "metadata": {
      "needs_background": "light"
     },
     "output_type": "display_data"
    }
   ],
   "source": [
    "import matplotlib.pyplot as plt\n",
    "#plot points on the graph\n",
    "plt.plot([p[0] for p in points],[p[1] for p in points],'ro')"
   ]
  },
  {
   "cell_type": "code",
   "execution_count": 8,
   "metadata": {},
   "outputs": [
    {
     "name": "stdout",
     "output_type": "stream",
     "text": [
      "Mean X: 4.0\n",
      "Mean Y: 3.8\n",
      "X*Y: 95\n"
     ]
    }
   ],
   "source": [
    "#To find y=ax+b\n",
    "# a=(x*y- n*mean(x)*mean(y))/(sum([x[i]^2])-(n*(mean(x)^2)))\n",
    "x_mean=sum(p[0] for p in points)/n\n",
    "y_mean=sum(p[1] for p in points)/n\n",
    "xy=0\n",
    "for i in range(n):\n",
    "    xy+=points[i][0]*points[i][1]\n",
    "\n",
    "print(\"Mean X:\",x_mean)\n",
    "print(\"Mean Y:\",y_mean)\n",
    "print(\"X*Y:\",xy)"
   ]
  },
  {
   "cell_type": "code",
   "execution_count": 9,
   "metadata": {},
   "outputs": [
    {
     "name": "stdout",
     "output_type": "stream",
     "text": [
      "y= 0.95 x+ 0.0\n"
     ]
    }
   ],
   "source": [
    "b=(xy-5*x_mean*y_mean)/((sum(p[0]**2 for p in points))-5*(x_mean**2))\n",
    "a=y_mean-b*x_mean\n",
    "print(\"y=\",b,\"x+\",a)"
   ]
  },
  {
   "cell_type": "code",
   "execution_count": 24,
   "metadata": {},
   "outputs": [
    {
     "data": {
      "text/plain": [
       "[<matplotlib.lines.Line2D at 0x1c351c3f208>,\n",
       " <matplotlib.lines.Line2D at 0x1c351c70d68>]"
      ]
     },
     "execution_count": 24,
     "metadata": {},
     "output_type": "execute_result"
    },
    {
     "data": {
      "image/png": "[encoded data removed]",
      "text/plain": [
       "<Figure size 432x288 with 1 Axes>"
      ]
     },
     "metadata": {
      "needs_background": "light"
     },
     "output_type": "display_data"
    }
   ],
   "source": [
    "x=np.array([p[0] for p in points])\n",
    "y=np.array([[1] for p in points])\n",
    "plt.plot(x,y,'ro')\n",
    "plt.plot(x,y,a*x+b)\n",
    "\n"
   ]
  },
  {
   "cell_type": "code",
   "execution_count": null,
   "metadata": {},
   "outputs": [],
   "source": []
  }
 ],
 "metadata": {
  "kernelspec": {
   "display_name": "Python 3",
   "language": "python",
   "name": "python3"
  },
  "language_info": {
   "codemirror_mode": {
    "name": "ipython",
    "version": 3
   },
   "file_extension": ".py",
   "mimetype": "text/x-python",
   "name": "python",
   "nbconvert_exporter": "python",
   "pygments_lexer": "ipython3",
   "version": "3.7.0"
  }
 },
 "nbformat": 4,
 "nbformat_minor": 2
}
