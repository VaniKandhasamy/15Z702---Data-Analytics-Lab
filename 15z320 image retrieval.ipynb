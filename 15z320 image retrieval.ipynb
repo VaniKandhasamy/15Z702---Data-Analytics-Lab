{
 "cells": [
  {
   "cell_type": "code",
   "execution_count": null,
   "metadata": {},
   "outputs": [],
   "source": [
    "\n",
    "import csv\n",
    "import requests\n",
    "with open('C:\\\\Users\\\\HP\\\\Desktop\\\\MovieGenre.csv') as csvfile:\n",
    "    csvrows=csv.reader(csvfile, delimiter=',')\n",
    "    for row in csvrows:\n",
    "        filename = row[2]\n",
    "        url = row[5]\n",
    "        count=0;\n",
    "        if(url=='Poster'):\n",
    "           continue;\n",
    "        print(url)\n",
    "        result = requests.get(url,stream=True)\n",
    "        if result.status_code == 200:\n",
    "            image = result.raw.read()\n",
    "            v1=\"F:/DA/\"+filename+\".jpg\"\n",
    "            open(v1,\"wb\").write(image);\n",
    "\n"
   ]
  },
  {
   "cell_type": "code",
   "execution_count": null,
   "metadata": {},
   "outputs": [],
   "source": []
  }
 ],
 "metadata": {
  "kernelspec": {
   "display_name": "Python 3",
   "language": "python",
   "name": "python3"
  },
  "language_info": {
   "codemirror_mode": {
    "name": "ipython",
    "version": 3
   },
   "file_extension": ".py",
   "mimetype": "text/x-python",
   "name": "python",
   "nbconvert_exporter": "python",
   "pygments_lexer": "ipython3",
   "version": "3.6.5"
  }
 },
 "nbformat": 4,
 "nbformat_minor": 2
}
